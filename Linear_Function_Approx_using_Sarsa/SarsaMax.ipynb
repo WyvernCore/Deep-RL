{
  "nbformat": 4,
  "nbformat_minor": 0,
  "metadata": {
    "colab": {
      "provenance": [],
      "collapsed_sections": [],
      "include_colab_link": true
    },
    "kernelspec": {
      "name": "python3",
      "display_name": "Python 3"
    },
    "language_info": {
      "name": "python"
    }
  },
  "cells": [
    {
      "cell_type": "markdown",
      "metadata": {
        "id": "view-in-github",
        "colab_type": "text"
      },
      "source": [
        "<a href=\"https://colab.research.google.com/github/WyvernCore/Deep-RL/blob/main/Linear_Function_Approx_using_Sarsa/SarsaMax.ipynb\" target=\"_parent\"><img src=\"https://colab.research.google.com/assets/colab-badge.svg\" alt=\"Open In Colab\"/></a>"
      ]
    },
    {
      "cell_type": "code",
      "execution_count": 110,
      "metadata": {
        "id": "90zEJ50_QgJF"
      },
      "outputs": [],
      "source": [
        "import matplotlib\n",
        "import numpy as np\n",
        "import gym\n",
        "import matplotlib.pyplot as plt\n",
        "from sklearn.kernel_approximation import RBFSampler\n",
        "import sklearn.pipeline\n",
        "import sklearn.preprocessing\n",
        "import pickle\n",
        "import warnings\n",
        "warnings.filterwarnings(\"ignore\")"
      ]
    },
    {
      "cell_type": "code",
      "source": [
        "env = gym.make('MountainCar-v0')"
      ],
      "metadata": {
        "id": "Hj6SQFusQwuB"
      },
      "execution_count": 111,
      "outputs": []
    },
    {
      "cell_type": "code",
      "source": [
        "num_episodes = 5000\n",
        "discount_factor = 0.99\n",
        "alpha = 0.01\n",
        "nA = env.action_space.n\n",
        "\n",
        "#Parameter vector define number of parameters per action based on featurizer size\n",
        "w = np.zeros((nA,400))"
      ],
      "metadata": {
        "id": "BAsZD6StQxnX"
      },
      "execution_count": 112,
      "outputs": []
    },
    {
      "cell_type": "code",
      "source": [
        "# Plots\n",
        "episode_rewards = np.zeros(num_episodes)"
      ],
      "metadata": {
        "id": "8t3cJTzeQzWH"
      },
      "execution_count": 113,
      "outputs": []
    },
    {
      "cell_type": "code",
      "source": [
        "# Get satistics over observation space samples for normalization\n",
        "observation_examples = np.array([env.observation_space.sample() for x in range(10000)])\n",
        "scaler = sklearn.preprocessing.StandardScaler()\n",
        "scaler.fit(observation_examples)"
      ],
      "metadata": {
        "colab": {
          "base_uri": "https://localhost:8080/"
        },
        "id": "X0Qwof73Q1zI",
        "outputId": "2deb0242-0c84-4b6d-d283-4e5ad9b30ae3"
      },
      "execution_count": 114,
      "outputs": [
        {
          "output_type": "execute_result",
          "data": {
            "text/plain": [
              "StandardScaler()"
            ]
          },
          "metadata": {},
          "execution_count": 114
        }
      ]
    },
    {
      "cell_type": "code",
      "source": [
        "# Create radial basis function sampler to convert states to features for nonlinear function approx\n",
        "featurizer = sklearn.pipeline.FeatureUnion([\n",
        "        (\"rbf1\", RBFSampler(gamma=5.0, n_components=100)),\n",
        "        (\"rbf2\", RBFSampler(gamma=2.0, n_components=100)),\n",
        "        (\"rbf3\", RBFSampler(gamma=1.0, n_components=100)),\n",
        "        (\"rbf4\", RBFSampler(gamma=0.5, n_components=100))\n",
        "\t\t])\n",
        "# Fit featurizer to our scaled inputs\n",
        "featurizer.fit(scaler.transform(observation_examples))\n",
        "#featurizer.fit(observation_examples)"
      ],
      "metadata": {
        "colab": {
          "base_uri": "https://localhost:8080/"
        },
        "id": "suFXsaOMQ2s_",
        "outputId": "e47dac9a-0211-45ab-fb2d-6cabbc67df2a"
      },
      "execution_count": 115,
      "outputs": [
        {
          "output_type": "execute_result",
          "data": {
            "text/plain": [
              "FeatureUnion(transformer_list=[('rbf1', RBFSampler(gamma=5.0)),\n",
              "                               ('rbf2', RBFSampler(gamma=2.0)),\n",
              "                               ('rbf3', RBFSampler()),\n",
              "                               ('rbf4', RBFSampler(gamma=0.5))])"
            ]
          },
          "metadata": {},
          "execution_count": 115
        }
      ]
    },
    {
      "cell_type": "code",
      "source": [
        "# Normalize and turn into feature\n",
        "def featurize_state(state):\n",
        "\t# Transform data\n",
        "\tscaled = scaler.transform([state])\n",
        "\tfeaturized = featurizer.transform(scaled)\n",
        "\t#featurized = featurizer.transform([state])\n",
        "\treturn featurized"
      ],
      "metadata": {
        "id": "rzaEPSDxQ6Qp"
      },
      "execution_count": 116,
      "outputs": []
    },
    {
      "cell_type": "code",
      "source": [
        "def Q(state,action,w):\n",
        "\tvalue = state.dot(w[action])\n",
        "\treturn value"
      ],
      "metadata": {
        "id": "7HByFeomQ7mQ"
      },
      "execution_count": 117,
      "outputs": []
    },
    {
      "cell_type": "code",
      "source": [
        "def Q_Max(state,action,w):\n",
        "  best_action = np.argmax([Q(state,a,w) for a in range(nA)])\n",
        "  value = state.dot(w[best_action])\n",
        "  return value"
      ],
      "metadata": {
        "id": "0qdwEe7vVdeB"
      },
      "execution_count": 118,
      "outputs": []
    },
    {
      "cell_type": "code",
      "source": [
        "# Epsilon greedy policy\n",
        "def policy(state, weight, epsilon=0.1):\n",
        "\tA = np.ones(nA,dtype=float) * epsilon/nA\n",
        "\tbest_action =  np.argmax([Q(state,a,w) for a in range(nA)])\n",
        "\tA[best_action] += (1.0-epsilon)\n",
        "\tsample = np.random.choice(nA,p=A)\n",
        "\treturn sample"
      ],
      "metadata": {
        "id": "ipTyEnL-Q8zQ"
      },
      "execution_count": 119,
      "outputs": []
    },
    {
      "cell_type": "code",
      "source": [
        "# Helper function save params\n",
        "def save_params(fname, param_list):\n",
        "    file = open(fname+'.obj', 'wb')\n",
        "    pickle.dump(param_list, file)\n",
        "    file.close()"
      ],
      "metadata": {
        "id": "o-mhMJayQ-xw"
      },
      "execution_count": 120,
      "outputs": []
    },
    {
      "cell_type": "code",
      "source": [
        "# Helper function load params\n",
        "def load_params(fname):\n",
        "    file = open(fname+'.obj', 'rb')\n",
        "    param_list = pickle.load(file)\n",
        "    return param_list"
      ],
      "metadata": {
        "id": "J_ycuORCQ-3w"
      },
      "execution_count": 121,
      "outputs": []
    },
    {
      "cell_type": "code",
      "source": [
        "# Our main training loop\n",
        "mov_avg_result = 0.\n",
        "\n",
        "for e in range(num_episodes):\n",
        "\n",
        "    state = env.reset()\n",
        "    state = featurize_state(state)\n",
        "\n",
        "    while True:\n",
        "\n",
        "        #env.render()\n",
        "        # Sample from our policy\n",
        "        action = policy(state,w)\n",
        "\t\t\n",
        "        # Step environment and get next state and make it a feature\n",
        "        next_state, reward, done, _ = env.step(action)\n",
        "        next_state = featurize_state(next_state)\n",
        "\n",
        "        # Figure out what our policy tells us to do for the next state\n",
        "        next_action = policy(next_state,w)\n",
        "\n",
        "        # Statistic for graphing\n",
        "        episode_rewards[e] += reward\n",
        "\n",
        "        # Figure out target and td error\n",
        "\n",
        "        # SARSA MAX\n",
        "        target = reward + discount_factor * Q_Max(next_state,next_action,w)\t\n",
        "        \n",
        "\n",
        "        # SARSA \n",
        "        #target = reward + discount_factor * Q(next_state,next_action,w)\t\n",
        "\n",
        "        td_error = target - Q(state,action,w)\n",
        "\n",
        "        # gradient\n",
        "        dw = (td_error).dot(state)\n",
        "\n",
        "        # Update weight\n",
        "        w[action] += alpha * dw\n",
        "\n",
        "        if done:\n",
        "          break\n",
        "        # update our state\n",
        "        state = next_state\n",
        "\n",
        "    \n",
        "    if e > 100:\n",
        "        mov_avg_result = np.mean(episode_rewards[e-100:e])\n",
        "        if mov_avg_result >= -137:\n",
        "            print(f'Solved! Episode: {e} Average Score: {mov_avg_result}')\n",
        "            save_params('weights2', [w, scaler, featurizer])\n",
        "            break\n",
        "\n",
        "    if e> 0 and e % 100 == 0:\n",
        "        print(f'Episode: {e} Average Score: {mov_avg_result}')"
      ],
      "metadata": {
        "colab": {
          "base_uri": "https://localhost:8080/"
        },
        "id": "m5MM_o_-RAz4",
        "outputId": "cd0f4d75-1885-4edf-b14e-b4adc0df303a"
      },
      "execution_count": 122,
      "outputs": [
        {
          "output_type": "stream",
          "name": "stdout",
          "text": [
            "Episode: 100 Average Score: 0.0\n",
            "Solved! Episode: 190 Average Score: -136.79\n"
          ]
        }
      ]
    },
    {
      "cell_type": "code",
      "source": [
        "w, scaler, featurizer = load_params('weights2')"
      ],
      "metadata": {
        "id": "AZvbskzhRKEu"
      },
      "execution_count": 123,
      "outputs": []
    },
    {
      "cell_type": "code",
      "source": [
        "!apt-get install -y xvfb python-opengl ffmpeg > /dev/null 2>&1\n",
        "!pip install -U colabgymrender\n",
        "!pip install imageio==2.4.1\n",
        "!pip install gym[classic_control]"
      ],
      "metadata": {
        "colab": {
          "base_uri": "https://localhost:8080/"
        },
        "id": "7K0W0u0wRNN4",
        "outputId": "57f9a60a-d34b-4fcf-cbce-c26649c1c590"
      },
      "execution_count": 124,
      "outputs": [
        {
          "output_type": "stream",
          "name": "stdout",
          "text": [
            "Looking in indexes: https://pypi.org/simple, https://us-python.pkg.dev/colab-wheels/public/simple/\n",
            "Requirement already satisfied: colabgymrender in /usr/local/lib/python3.7/dist-packages (1.1.0)\n",
            "Requirement already satisfied: moviepy in /usr/local/lib/python3.7/dist-packages (from colabgymrender) (0.2.3.5)\n",
            "Requirement already satisfied: decorator<5.0,>=4.0.2 in /usr/local/lib/python3.7/dist-packages (from moviepy->colabgymrender) (4.4.2)\n",
            "Requirement already satisfied: imageio<3.0,>=2.1.2 in /usr/local/lib/python3.7/dist-packages (from moviepy->colabgymrender) (2.4.1)\n",
            "Requirement already satisfied: tqdm<5.0,>=4.11.2 in /usr/local/lib/python3.7/dist-packages (from moviepy->colabgymrender) (4.64.1)\n",
            "Requirement already satisfied: numpy in /usr/local/lib/python3.7/dist-packages (from moviepy->colabgymrender) (1.21.6)\n",
            "Requirement already satisfied: pillow in /usr/local/lib/python3.7/dist-packages (from imageio<3.0,>=2.1.2->moviepy->colabgymrender) (7.1.2)\n",
            "Looking in indexes: https://pypi.org/simple, https://us-python.pkg.dev/colab-wheels/public/simple/\n",
            "Requirement already satisfied: imageio==2.4.1 in /usr/local/lib/python3.7/dist-packages (2.4.1)\n",
            "Requirement already satisfied: numpy in /usr/local/lib/python3.7/dist-packages (from imageio==2.4.1) (1.21.6)\n",
            "Requirement already satisfied: pillow in /usr/local/lib/python3.7/dist-packages (from imageio==2.4.1) (7.1.2)\n",
            "Looking in indexes: https://pypi.org/simple, https://us-python.pkg.dev/colab-wheels/public/simple/\n",
            "Requirement already satisfied: gym[classic_control] in /usr/local/lib/python3.7/dist-packages (0.25.2)\n",
            "Requirement already satisfied: numpy>=1.18.0 in /usr/local/lib/python3.7/dist-packages (from gym[classic_control]) (1.21.6)\n",
            "Requirement already satisfied: cloudpickle>=1.2.0 in /usr/local/lib/python3.7/dist-packages (from gym[classic_control]) (1.5.0)\n",
            "Requirement already satisfied: importlib-metadata>=4.8.0 in /usr/local/lib/python3.7/dist-packages (from gym[classic_control]) (4.13.0)\n",
            "Requirement already satisfied: gym-notices>=0.0.4 in /usr/local/lib/python3.7/dist-packages (from gym[classic_control]) (0.0.8)\n",
            "Requirement already satisfied: pygame==2.1.0 in /usr/local/lib/python3.7/dist-packages (from gym[classic_control]) (2.1.0)\n",
            "Requirement already satisfied: typing-extensions>=3.6.4 in /usr/local/lib/python3.7/dist-packages (from importlib-metadata>=4.8.0->gym[classic_control]) (4.1.1)\n",
            "Requirement already satisfied: zipp>=0.5 in /usr/local/lib/python3.7/dist-packages (from importlib-metadata>=4.8.0->gym[classic_control]) (3.9.0)\n"
          ]
        }
      ]
    },
    {
      "cell_type": "code",
      "source": [
        "from colabgymrender.recorder import Recorder\n",
        "env = Recorder(env, './video')"
      ],
      "metadata": {
        "id": "HqFp9Jn7RObl"
      },
      "execution_count": 125,
      "outputs": []
    },
    {
      "cell_type": "code",
      "source": [
        "done = False\n",
        "s = env.reset()\n",
        "while not done:\n",
        "\ts = featurize_state(s)\t\n",
        "\ta = policy(s, w, 0)\n",
        "\ts, r, done, info = env.step(a)"
      ],
      "metadata": {
        "id": "749BbTcZRPtg"
      },
      "execution_count": 126,
      "outputs": []
    },
    {
      "cell_type": "code",
      "source": [
        "env.play()"
      ],
      "metadata": {
        "id": "oh6cf0WBRQ1Q",
        "outputId": "f2b5b3c8-8dcb-4e7f-d13b-bc53712c59f9",
        "colab": {
          "base_uri": "https://localhost:8080/",
          "height": 421
        }
      },
      "execution_count": 127,
      "outputs": [
        {
          "output_type": "display_data",
          "data": {
            "text/plain": [
              "<IPython.core.display.Video object>"
            ],
            "text/html": [
              "<video controls  >\n",
              " <source src=\"data:video/mp4;base64,AAAAIGZ0eXBpc29tAAACAGlzb21pc28yYXZjMW1wNDEAAAAIZnJlZQAAaGhtZGF0AAACrQYF//+p3EXpvebZSLeWLNgg2SPu73gyNjQgLSBjb3JlIDE0OCByMzMzIDkwYTYxZWMgLSBILjI2NC9NUEVHLTQgQVZDIGNvZGVjIC0gQ29weWxlZnQgMjAwMy0yMDE3IC0gaHR0cDovL3d3dy52aWRlb2xhbi5vcmcveDI2NC5odG1sIC0gb3B0aW9uczogY2FiYWM9MSByZWY9MyBkZWJsb2NrPTE6MDowIGFuYWx5c2U9MHgzOjB4MTEzIG1lPWhleCBzdWJtZT03IHBzeT0xIHBzeV9yZD0xLjAwOjAuMDAgbWl4ZWRfcmVmPTEgbWVfcmFuZ2U9MTYgY2hyb21hX21lPTEgdHJlbGxpcz0xIDh4OGRjdD0xIGNxbT0wIGRlYWR6b25lPTIxLDExIGZhc3RfcHNraXA9MSBjaHJvbWFfcXBfb2Zmc2V0PS0yIHRocmVhZHM9MyBsb29rYWhlYWRfdGhyZWFkcz0xIHNsaWNlZF90aHJlYWRzPTAgbnI9MCBkZWNpbWF0ZT0xIGludGVybGFjZWQ9MCBibHVyYXlfY29tcGF0PTAgY29uc3RyYWluZWRfaW50cmE9MCBiZnJhbWVzPTMgYl9weXJhbWlkPTIgYl9hZGFwdD0xIGJfYmlhcz0wIGRpcmVjdD0xIHdlaWdodGI9MSBvcGVuX2dvcD0wIHdlaWdodHA9MiBrZXlpbnQ9MjUwIGtleWludF9taW49MjUgc2NlbmVjdXQ9NDAgaW50cmFfcmVmcmVzaD0wIHJjX2xvb2thaGVhZD00MCByYz1jcmYgbWJ0cmVlPTEgY3JmPTIzLjAgcWNvbXA9MC42MCBxcG1pbj0wIHFwbWF4PTY5IHFwc3RlcD00IGlwX3JhdGlvPTEuNDAgYXE9MToxLjAwAIAAAA3AZYiEACv//tjn8yyrXEDQNVS4dWXu4VKBoyhnaeS9TMAAAAMAAAMAAGj8633+ytnR1zZMAAAM0CWsPZqOgDJEQqsagGuYVP+Nuv64pXrcf6Nh/AYltVs6fSbVLrmgdAakiaoCzJJZZbl30eGnFqcMGZlniHBNksbnPCz7GDVkfHqPpJPPgOpduSO2Pf4GRAU20kP8tXB+RbpDVnJhLkupYeDFNsNp8ebHK0w6CXY6LAf6KlfPC67KErPhqoC8b9HnWuWUKKfRao3UG/K6WAAm+5YRLqlwFpqFDySMly9dOzYVA3CUKJ6OEoXZ/oPFPEwL3HsWrxJxUldZY3QX5Qu0yEqSmWjLD3NHLBrp0VEgHiDa8h4XFdVUdjTlp1t7Sn3OLq5W4Dqhz+T/LL7gHW6mN7begbwwOr14Bl193easHjjnd20FaNhBTOo4jD2xtKGyU2U7ezNWfOYboC7IIhlFkBTyJKD3tg3ksRAM2xJ2GTY7ZDKTLKTmYkvKssu5UNhLy/LTLfnr8VDIo3Yli7IAS9IJNDWbgHJcbe+HoA9qL9N3Q6SgGI6Hd5LPpN9q5JtzWduOBSA5SUXp/bxurbtEaTkPliWPjAzwgKEE+Wf8uXqWQxfXbIw13MmdpJyz3sGoX0GJ5EatzFgHjgLNLjyDNgCOe1RjX2g0BX1dVGfZJk+bK5UoT6FIn6Ae8N9QG5fhqgfhjmy40zAcP4uLt3Pn/zKkIVdn0ecurqJKJ7T8YDjeSTJ23NEFb1/C0bLoW1Ppsp35l/lqgHdq47TyfbzaPn9/YE3G0YR5SL77J2dR/ks/G16k5UWogb4dQxIiVPhYkv7UUpMSLIkTUGwi53wqG9898TYOPUv3FIPVQZmDUQoyBG0D7RTC2fDANAt25nBHmSAfpR6/hlcLiq+Cmh1gAAADAABdQyZ981RaO8ogVcw5ZXnDM+Wg1Fx20di3+Ronk4mMB5Jnzdb7mBkbMP2AHzMKYPy/shqiG7uUFqQsF7B75Yc41xeV1UC34MT5E7sDvbjJKS4vJdMS0q5fU4QFfAACMjEADKQMC8qyB0CwlMeYbj64CRD/+dzXiTUbd8bsqzolqrNiwwEG97QIXHkk/+gYgADzgZpSH1o/lbrxplPxhPmtplT9/vrvaq30m0Y0Rb0g6ouveV1EPrjXlRgu0kxlfc61k6xSjpjFJuT05xH8XR3itoGfC/9TvZ9vvMopXSPkF3EMPnQCkfHVQaSHT4QEJRapRUrCfobH7Q4F88eF8i7JWr+ApjpShAcx3xzoKHd8rpE4Uz3iXG4vZaJZL+jZEQc/6cU3oWxJbUJ8cwxLATh97uK8m9ULpvEFrQH/ZAXl/hVFwSluJASmAMAhITB5hmiV4l95pbBR7Z+9grkQdGLTvv2uMN/aHOWmsyWQD41DGZgI15UXgkjKDGzUmBpvxyVgFZ6epcCikwJKcyB+pT+ALO645GuIZf5lmrdR88aWuCaV7avzMqmFowp4k7EYsj3AJDAo9ZfGxSiZFsZQyyLcF+GlTUOcZkrovA8m/tQKx1UECd49EcWTAT8EMAVxOTQgcyOsTzYfi4WFRESzvh4NH4tKoMpZd/U4kxyp29fHw641Q1lsFE37iBHI64OJmQBjpp1dWTCK1rUqGKhBAX7oI9nKYOm3llBwsZlH/RdOfa6PQ/S+wQjPq3xupKG7bia6JAL0YM8AIlSKOW4ZuvnktDEwRefc7j2yeoga76A8/X+rvL332W9D/7MREAU8fvu2NCbO5Kuo0zFv7G5B2TZhOj9eTdWOm++495XlXlFmlZxPnqwFl/KSwB8spO3eh/ktJy6FrRsRE04BcYEOj7nUcsKSPIRVr43jSzUXmE91FrGA2dDaCamkviPpiZQtII5RNgqbhMtWDUkncL14QOHKW7rXGTYXJz/IoT1FDOtl5EZMcvLLDlcZN9aftdVeS797TcxdHQwEpdBK5P2MwA5EvjqPMJL6E77hT5fpS9dWc+jkFfL3xa16ENtITTBoTqkCg5cFNvKPYM/vsGYPEKPsQQYyzcrur3GH58Fijax7VRX0Zi3WQeQ6a4zSvSrUM0L/fynJar0JGZWxxMGthBKUVgVxkFTsRkOcCfIt0d/VwgER02tiOZcUpOwbNsaTXY6QckvAmMHKp6T16TEfg/wBExMZY83ZofzSFKfdCgkE/1s8Qew6Bv85HXS1qqMu1GXXOJftmTA0qUt/A87f2GnkE0+BrzIL1xw640Jqs2EFKf31aWhiP/K7aCzCDDsvyb3qUMY+BkD+BW+r/Z3+cvWsIEvECuq9OOwpJrjRJRjQpKnfsLtT4JeYA1vRnKsmg7H5lI0s1+CQr6uUmSpjWgof2t+CZh/7dqH/zhPtmAF/meS8cgyYTpG/skZ8vIbW9/AoJcLIGJYR8AZZPOhS+zz9w5NmwNF9b/lJ2WgFRrTiWg8UjuDpiZjIHqSfE0IUX/3lHP30c1sAEhk3M9vGAX+cT/CvfqnQ1rZVz8Ih6kkGDgTULQ1LGHZjTSw0LVJCACB4XQYiTR7mkDnzflElP5JGPLVNzFMC+R/vZRpUkfQj/+Kuw26TkpTqR8AAEEcTUQG/xFqCsDcKe+mDI/uQ+0uo4B2sI5K663lqHUq5WwyPyYL5HGwILCgQN6IiQs6t0EgH+VoTbcwGrtE+HSGQTw0OjgWVPkvX6IcXP6tXs5iaiaUvWIWc3lvsJKjAntaGpkRc30+V3jXYnENH+vkvPZoF5WjQIxXL1xW9CbfA6TSkIc6lE/iFDODOCxbqIewau348AMhtX3oAC9SotZfnIZBmAcjeO0E9qK0A/t1ir9+fn+IfjcUs8EN311fPzZq0ZzruLigh7XC1+ASH8V98fDbmw3EhayMZwn55cEmB8MkZ5tFml9E2/oYyHz+Kr9xDDjWekunSirmktDsi3JzZmyJqmQZ2LybU+MRtJ8QIpH720Dcr8f27QQGYo5hdeCqGWN3VCXfvBhfSQTTIASkVzQBIwtDqsMVv++DBgoKqgO435lAfAXH4bT3fThmMc8AXErZ+kyxoqJ9Yt96IK6sk5Qi/AmUrnKvd2OtgNhRpM2/YDZUWz1MTQIoV9n+0SUDUG+XOkOVvC7UleopSJVtxdwgnY0VYb0gxzNvUcRQHsUsPd2Tzyjbh9+zitimrztqD5m4xAmKCef3jJb0jUcJqPTaVtU5eNe+4fHXtpOF2xiknN56N0AEwFcz9WMXGa094G0e6tHma/XUFtgo3+cMLODUzaMcOlzbFgQ1VeE2E+uwJkSFkBliTobtKoC83BHB6ts/9bts0gIh6aESlW+C29V1Mf3G9ZuOSMFWi50YsHDnm9ibs96Hzc/6kfqFZXk2UaIOZflojf/r9WcFsHjeZ8oXftqCn1pMDMyLimpiXQr+WKaBJ6CB+g6IKw3zRT8AnMdtwdKE4LhMxsd6oAAMpfnwGMl68lgItNmLCrIYaPn/jxO4402yloAvDWCPntp1zQagYNZzmlbFAVtea0enFXI1/MDgQ7SmqGrKnTCzxDSdtuEpGiRB3kY4QXTjwQlWMNU88XjMqGpgRqawP2FAX2rFJXI1WF5M5lJvm9+pjy55VU1W3ImM4cjELSHjZfYiQ2ejL+Uub80HRNgZCd+bCAW4op1IXJ37/XPCwkPaQmXvHEgf82shW6OwFtqgzTbmtqsRbqxcuYpPD8H2HZB43/aVRQb1WkVJeo979et1lqAAAOTpxyD2A+AmMrQ2TC0KeWzY3D3EJp0qxuJ5yuYrRr/YutrVVLrKTDu4n6NI0x235kZGyYdDPGvceOJfxEJ1l1Rr1BltXXm/OBBo3YzMWS3LUT64DTAJmjiRLlyaC/gu5hYAdgQ2SFIWEkxHIhK+Zssq6RdBaQ8LP81bbIC7wZZLoaFL2Y8QHf9c53Eb0T9AMZbGJwvVNBrNTiTeJrKk/rXvz3j+zfxC6rQEhJJ/c0eYhIGwybP/jwjZn5RPcA8o7q1a1btF4BLC+/4iXVxZ7IAkvTBYJ80GNQ0Xy6AcRWKIwujW/QmPGmOXgivE6zoJOsfOB9srWrcNe9DClS9FW4zYDerbGxl+lMC2AR/lpIWo2ryerkghllsJM/rFbiZPfxoGG+4Ef3mRSZsO7PeUreQGskHLfKx2oviygKj/eHWjerJpeMNkiw7LJ9CikkDMvkiGGAAAqeQ4YAMBLH0l23G3Q6BGNdMpUAs0FhPjLbhx7I9YgBf7VTWFZ/1Em6jHaiU3sVVncS/5tstAnttV9awtXY1GIhpqv+sV8eQV2uZ2S6A54XX+QgicDuYZC9CTrxUVd1UgW1bCrxPHSZhPdwrnES/lk0gmOKPi1uaTJ/HfLZbY2UfspkHsQGmnk2N/cWKwiZTWNV+znqqQJH7oPAyp/R6bTEdLu/jxy0ZkkCptS3ePiDRi+0VxCMs8JGVHlAwo7a2xXDbpaI5UrsiDjDZPAEgC8CNPA7dc8maWe3FoaHcodYrMmD26MbMGvCVM0aAkrmfMd9xqdLT3oW3yeRGeMiLjFbhtG9QR9DzfboAkVhv4Q3FBGKobkVDQe0weFnASuMzjOxN89MLDMoVhgghBkU7GhNJF+Pc8Dtvxw0EubyUoiLkmmzFsv87Drw/c9HBhip8S/4gIYVaJoLeM+K7EZnLnQr6VpJQj8UnAYvogr4fmhsAuReG9SQGGQoiAAAHBHxT0r+AtgAADugQAAAOVBmiRsQr/+OEAAAiq/mgDFcV66dd5vOSl5fGvF+Tnp/VD4wucSZzVinnGXjU8eYBToI1AKPtwTZS6tc8qy0qDJ0XaPnU+cEL/1dETh0LHX4KcWGOiVpDRhef31Rm5xXI83aSuVo9s3a+gwyxC/nGfjGFu8jZ7vh3achSWyNcrLAF/7bDaoTtYr1cFwYqnEE7jt1zck3Wv3NJ5l1RWw7weKYkrde8sp5x8SPw0rL3fx0Yxla/lTbQOMafpWiY0SbcuJLPonB52RAnTOsH7yKFmElfPZLP/RrCQVc3YNXAJDC3w3mViWAAAAU0GeQniP/wBWPdpzCCbBdyl5lhw43l6qv7edjU0EzpTg6RABtNFlUdH8JZxIMCHYEf6tRxskPOKHKgyr6mgTXjOJheCWU2p9yWlqWQlEl9ABQMv5AAAAHgGeYXRG/wAAAwAAyV1o1w9nrEWgDRRpuAn9a/GY6AAAACoBnmNqRv8Aa9tMoAA3Tpx6BF8+4XfPFYtWETmKiw1MApRFuYhgbQuUtKUAAADZQZpmSahBaJlMFPCv/jhAAAGlaBgBSm8Q2v3bcUxCyWtZlWI7xRS6gG/FNJJR5PxcjTPeWjp3ExD/V3GL53E4lAOIueNKYoyU7py6DrSYIvo+iGWBtreFy6pKyE7mc7ynH5TDd1a5VToyQTXXGOoKkkTsD3OLhHrfiBMBHrSOKnnH6EILshaANHmr3ThFHWC7BjdA4LFj0xbuJykQm9d0irPaOooUNY6FRdEyKt6wYJ3+hFSTMLny8qJ4gHbjQR2dDlgArkNzeENv0xcg4TJX2u52vLrj+7i2GwAAAEMBnoVqRv8Aa9tMoAA2wW5dYATnJjwedoLuTweHiAG11/B6/73COl9dc6d0juq4GD3/tXY3c/4TH3aI9Nyjpm9rUJILAAABQEGaiknhClJlMCEf/eEAAAMAABFuGoGT90CR8SX7+yud8OsmNeqZ3SECXjpkdchjEEWYERnz2DwsZrCgw2SnoA1xbrxXTZaNnfX5BnK71dN6RhC5E4BOevvYcNdEaxSF8zRTlDqCdJ56f2MaC19MKkEcHoMb5myQAon7AfU6WDpKEFgzKXZrRZ3Xr46Y+lIKTc6va3YAGB9cpm0cTQLMbjLk0VU2BWPKC4i8Qvt2iUWP2DNbxB7g93pcyicUQxA1fDcgLH5Ki0TGWuuLMwr2mR4EwUZZKRxjMUS/AyCmVlcWmWjdK7TaGiX/rMWnYwWI9XQ3REY4s89HNWiVdj4KE9uTXlv8N+Kl5g+7YlJS520wEUZ9ss0t4h9Aw+m9rKjxVHOru6lqmSFwS319Yk7mjfqzY5q994X3QuhcSw1T85TBAAAAiUGeqEU0TH8AVj3aYAAo4C3r2EMoAHN2tjgANvHHYYcKz95eTJ28xmpnD9BFrRkcUcIOadGe2t39Zx5+q0JGr04WOm9FlvpLdJ5JRtb+hghWn7FPN9wa7/yThNe+4JSTr8vaosm+SOITtOjCptCFLyyaV2ht0BshQbdCjj+020LjUxEx3O385BCXAAAASwGex3RG/wAAAwAAyNDglDHF9Unbel3pL6zOBa1eDUz9OgHgBwQ/4WJAt1VROgG5z2zu4GUz6SK7Cz+s+rXV8XTi/bNqZxZRtn7oMAAAAFIBnslqRv8Aa9tMoAA3UahRX4QsRHqtmmsqbg5ibvjeucxsjlSg84KyMHEtOTEgBaykLmXtp2cJdCckrI/mUxcVGbVzPu0pDhb+BJZbr6dJMFJ9AAAAt0Gay0moQWiZTAhP//3xAAADAAALCOj6euyIDNIP27yxh+AhWzAC3Bewm9hQeFswRONMHSHi3pmSVsjejNp6yzDjx/OmdzbN6sz20avDlz7kNGvjk2BRNDeP8WYA/fIYTie3BeLYlnpVc3ZhTim7VgsSmbi9uu4Y7Ew2EQ/ToxahW9htBXA+10D418r+RQ/PJ2DwO5TufqHrCjharseYIPqFJVYW3kqy4BveypooTCy0w5ecarYnbAAAATRBmuxJ4QpSZTAhP/3xACsz6gEq3yz46BJTZPN02ojAu2cw1HA7zwe+asOnAqDAAV2jRFCWTzXTkN4xQKQ4TdmeknWxNDnD/vEkFxZObcdZ4sD/fsXklB192gmq7tl/4DSIRzG6+oIfhu7/r0jkq+rmZc5kZbHGiiZha7k6mAUOsFIuC8y7NMpcCaNgGVkEGsQwmDVbbQRgw3KNty+WFDlVbO7htdHoAp3l5TkqcXz+re7hvXcUFCcxHnDfUa5oYbkGfwEyi/7BvOW6pQXyKAaAOImR03b61eY0XZ/2sFjJGv5XuEDtW7TAdv0ftNSi7kqx8+8Av5Wo1bLqoF3dv6zTNqTCJOVsQ+ONm6cmhjnpcGD6nO57xv6DnHHvTSwNBp4qMoSamLnAOpJfoHM0HRp6FZZdKwAAAW5Bmw1J4Q6JlMCE//3xACoVo/EIxnwukhB4Bh0uw6Q1wpCiXwrPd0ceOqnFzZKgn+jqpFQOSnK/7cipo1qGyz2U6vlJLm5E96dMRvRFb9swzu75kw+9i8MNDcctVrIW1jZZXRM0zWff4A8KVhgq1cXD7njdfXcIecpJxAvP8RJP9CyM5wGtAb4UcIqM0yesc8m0BMrMKw/yT4kvOQGHnNiWZjOcU3buWKCpErnlnhz9TRNlA3UYw2Ko4F4GlZYvvCVxK99pu/TWp2n7Y4ybU9T4CGKBjzAe44fLXR2L2eMtuS6GSexbwqj+QbwdJDQl7OdWZRh/6PVvrOgYFdUaojRpCoNQARf3A28NwmLbrp3LXrzyy0ddfdRF7IYjyN6XIyRZmlJuiYtfr613Aet/oNkizOnMbUwUH08nteFu/q5g7mPpnlyLX8CWsFfsSH6V1zm+nh181/lE7GcEA8JNnfSfW99eT7apuDd9N5GsR0EAAADSQZsuSeEPJlMCE//98QAAAwAT3lLPFq5xPANQ+n8jA4OL3nYyFkCXhwxlsm9ioyd6yU/zRUEayB31zqURy5450g9edsTmWd+g45+8aS98opgnVRorYMT/QA3st3BopUqOZVC7VhTrkNRRpJE0Gw8mHfhjnQ5EAh+Xzq1NHeujEP8fDPlZke5CztzySEWi06OBz03PXYEPhLugg0AozLcLd09EHnS9vi/2LGpvXx2Y5A59XvotH2jCgcjT0XPHWc4xp+nQfFUQRejw58Z7Dfp/1m6BAAAA/UGbT0nhDyZTAhP//fEAAAMAAKxRT4i/T3UO2d4+MnmqWgF9jY/OgK1BUQXx7oZuTiDHxy2yeVW/RAkRzFUf1AJs/GHf2h9JziyiwShDIcS07lwVlPrlvO9CQZLSYpjdh8gW67s0NCbQJ5HFs21DsDVNFaSyvBfmNX9HgB3DlxDdrlzxiDVtjInTeR90mHZSy6K9U/iEkmsHu/Pm3YJiJIWSTf+40FWgarSum256I2/g4nkWiFOetS+tA9uLWRuiCy9yonLDKXePEsvkIzNj8Mq9+brAyS2oFsPlA2tGiViZj30rVfpByWmg+mz9OSNWNJRhvK+OV3S9XQjPvA0AAAE/QZtySeEPJlMCE//98QAAAwAAGwBpgbJh2bh+ABYJo8WFoGjccj4vLlorlLputCP7jBC8ZJyMUQZxJq5twbNFs9HJfoqBbga3nCI2mVMbGm1TllbATwxsbR0a4kLk+mbqL8/mxXsc1bUC1BWH9EKTZqY3cISRxZ8sUKbkrKm9FkOrw4shdAETCBrhSL97GeyYYBSJVbl/1AxphrCLRa+1L/2Ex/XN+qaAvl7j8Q4LV0V1ZmhdOZCUJtntLtU/csAxbpyvjqOP8D0zROJAK9yjfQr5iHM5SFYso0LRrV/0lAs9V702fU0c4NFYEaI/WDI3k0Km5T3kKzunagF0Xg08U7FlwzUa9p+8ktJQsJ0CCCOam5UlFa4z9NWtHvvnPBmTY9AY3AYuA8uBSlnW50ScL+Ih+KsJ7n6jb43vrFkGgAAAAHJBn5BFETx/AFY92mAAYueW47Ns5V5CIfWW3cnt0gbwdmMLVWpRPRaYZSf5IoAbSkopMSaAF5rQ8noLCX8URnAyUesxk71uz7cYdzxiKnbAHtUsaqEfjNcTKInEG895yxyI0cJPZxKO7q4KREUnlb4FjagAAABuAZ+xakb/AGvbTKAAgyc1fkl3nbaSlNtZGWaaDInukpnzyH1e449Vhz7Jvc2E0gAuDLSWh3cTN0WekXmgcNtBRVgWLxmNerX027hYMULZ5+4gDqgQkmMFvDGFdvqVXupiIagwGUbzBSbD0ObGTr8AAADgQZuzSahBaJlMCE///fEAAAMAABu9/2CX2h9AHFXzAAtnM0hJpfA00lekSIg51RNKBBUgbM8yQWNDx2pItqxLD/38jW+o1TwwuUlg/esY4K+gw9rj27CrbDG1xKDC+3YwR4fxCgbDjuQrrQ5n+5GTkKQ8tzK4i8MmPqIJ8jntt6PoOqNQdKFrm4QAiFVdN99axhNurmItrA5MdV/Yx3jMRxZoSF36pX0zZcH7o9AKESaIS2rdkFT79DgBDPBUuRjwkC6pjrqw3+bavukw1kMURioy3pQteGMLrIlqnUn/kv0AAADXQZvUSeEKUmUwIT/98QAAAwAAGwDm0P8ccAFrmSkziuT/uBpSfSW1vzW6F9Vt26K815UMYHdUdNlvKZOBaC/pjDuiKPTyF+eFrA9BzdWlG0LIFd55IAs2m632qvNwbRd8P/hP+o/SopbxZ+aW33xyJIWQaK9e06/H0zibvM0JCIYv6um+b1BnzCenPYCDXR1dchZ3IWJIFCwHZSuid9vkdrm88byEkDxv/s/xg42ZYgPg9L6LGw9QY69JH12HwAMk9CkVhg6z8EAekFmcrNfn+qQeT7RjlMAAAADhQZv1SeEOiZTAhP/98QAAAwAAG73/WXC/+p0ALZ51UnMgYe2QEwz1LDvTO+FRXr+o3BuM7xEVmkrLLYWwkv1x4xA1Hw/9wDG5PZVjpx1PFvgnA7Agoy7nqJhpj2CEib2MfwUYXZt/r2WLdybhNFpdz83VVzPZ6RVtLXGSEICCITy+1wY5rzUHDoSJy1bvKFA+RIGNBKLw2YRLAHzKdNv8Zr9sOgLX+nrCjW2EykyEr2LqHCW+gjS+5wWtY7/6GYz4J5xaMrjAoB3k2te3VH0fx5Gg6mHwmV7aRVYZLtJzigLBAAAA8kGaF0nhDyZTBRE8J//98QAAAwAARTfbjRHeAak12cB8jvSQ4gRqI4WteBSC1DRTmso13CQYjj5p7pY3aSeWaUjweh2ns7+9zJijmREudxuag7O5onHmd0nxMR0m7aIDk+wGhdCSSmh/xLnFL6s5251EX3aMp6M+kRwIdVbO3+Y74Xlgez+ihDk69ZjAgva4ZSPaiKAxNPeHu3/xuh40J/VI0476FrFHs3eMcwdLizBo+5STDP/nBW3Lh8ToRCA+a97bGA9RCYEIAB8IOl1qYSG8Dndkfsm+oeMR0bD6Ov2layw+wabLnKCtXwMVNgpIIvuAAAAAaQGeNmpG/wBr20ygAVnL1AfZXS41WTn4ZCW4VvA0FJRVjRgTpBQn5BPFduUADYfZJUdpNcpULto1HYymCRSjDge7q57rtTWdzxtpYNZnl2lK/e5UTxlXoRW1JBre+gK9tGVtFw5Rp3NPYQAAATpBmjlJ4Q8mUwU8J//98QAAAwAARWOb4ixvGPwAIwsFwIYqzzdJJl4JJ3HKmUugFCpiFE328VTUWgdZFVanztmTFSK14Y/CM46bq4/tdR++P4Tzx4yRBAfn6S8TDEvsTQaaESGHmr3jl4u0g/y45YD+Cv2yoiLrxtvk6KSNWAN3ubFITKKDptF2vP0BRbyUuSZs7Dz1Mc0x+RlL8nM/hutzi5IMCg13LLb8GUCSPYdO6Gt1VkVW8QEIIWPZyxAPjDQvedRV0bcVpmFVqzKD153P8uKHX3XWIOjAHilmjg3ldws7Se26yE+4l2+ra1rhXrpH9PhVFb68W8tjexxDOWq2PoGJ672lKxp2k3C4CL5FNJc8/qgaQCaSJOCt36Ohm+zdtnzQxCFyE/jBfiKgXfT58TJTmn5jIP+jswAAAHgBnlhqRv8Aa9tMoAFaMYOYiU7eysMft7o+rzw/N/nwpuJipWkkucZXfdEgBLNxpZxKptZUw3djFgVPEgHHC/hNASGhPLcel8x2FUFIvrcefO7qA5BINeqaseYeRqarnyx49PMFPfdjMLED6pKqrBGirxaUJDhpNGAAAADJQZpaSeEPJlMCFf/+OEAAAAMAHR3/o05+5+8L6kTKdsw7ymuT+RnRrfx6ANVlCWnocnqWI79FbzDjJmdqtS9YEJteJd0kl+0rOdzk4q+lKNu/UU1HNhDwM6XTD3Z0Aq38NzefxwUAHaa/zvcdlH0xnq+hG4ZvPPKR/zb6R46jt3Y9aYINZ9vTHigJuJcDLeMfkShLg0sUPut6Jqoz/chXbtUflA1UVMSt9MT75kLrKoLl5EV5ZwmZCHMDReWhZzOeCWWy1ygjGI+tAAAA9kGafEnhDyZTBRE8K//+OEAAAAMASTzqAzqiATPf9EnhZBYMpj75HPVytc+rGQCk10gBG/lAYQNM14md0EqSoD6KmqxQtt8Xqs2efEcdGMcCUNBclPY6Kf8fNj9S1BCjmX1bq/3w7zSwPwnZ95EXkBFK7gkCdDTQWGzZBeAU70BnThoBTXeXn5Ud2WowRJAIgezFka2hPGE2JUhESiWnZLeKRgkeFck5T8hJkiWkCMw7yzygZabGInuFLdl7lMmkCM1VzIhzZIU4xGH0KEOBGQ7NDoCoyBuCCYTnw6MI1KaiK0g497/5TJLDVYdNuYYutb79u+OFgAAAAGMBnptqRv8Aa9tMoAN1GUf9lfCacCcloVTAAW5YP2lEf3t4CUPNcQZwKx7gvNVK+CgwG9soiRw6IaFd4fiBDJXdbbRHWlrPUf23MBX2U1ERfWOpRHZEt9Hvh6DHfhWJL8d5ePkAAADrQZqfSeEPJlMCFf/+OEAAAAMASWTGeUpQLziAIlcBl1bO6kJ2bczaPkzAboRsHCH6DvR+POeb+jw92nyFLViytvO/acNACI7nAVDSVH76+4s/3RcalckNddV4eBJOjw4MUywhzLVtLEkjsuSjuoQ4xp/BhPwUI0KY5BVLtBvgilcDnEK8BfblwhXRbnv0+j+N2H4k4qODRub/3apofDdchX28JSiwdAsw5bfQ3oW+9MLZKFpF+dCfkkCgV+DJXLo7m5NnGdxuR4C/DrxAX8tQ7iNjdZBFPM9Oq4J+OWjYVp7QjZ0b3trHIIEvxwAAAIlBnr1FETx/AFY92mACllH6n5BdEb/So0H/BV5GOtZs4tiAAkK5GKg8xWoOe+7ClDgeDGn3dgWovK5MSsGENzFBlZACkxNjl1Pd+dksLX1r0FP8GBURkj0eG2/iVNRhva5yraPLAw5jIQDms3Diup7DOPnDP+n3ReBNAypCP9iUKLsw0laR9GTVbAAAAFIBnt5qRv8Aa9tMoAN1Fl7X0Pj3GeVPhlmRk0P1fOnqAFq04UqIHxyzm5WVm2uadpDU9mSYj/YG+Vwza8q4pAa4tP1X/ylvE4i2WpxJ8B/7nPYQAAAAz0Gaw0moQWiZTAhX//44QAAAAwBJiinPV5fu6qZmfT6ykS0aoALqMr+47z6GPbs3OyF0jblum6uIubzOZIYR4DzvResnE/CNr8ZXGm77X/Vrh+EZHXJ8EP4yKS7sjiOZwRY+Rm+XzA5fzrH32Oi0WJ4ELiSyftCPW1PxULb++B5dx9NcuCJU+Gr7pyqhbH52NJu1m4I08VkBkOdxhcn4c6y663WngBDYkRJYiEZRtQ/Q9csbsdV/lu3YfcM1GixJgQg/6Fy+O2d2HRpSClgEgQAAAD9BnuFFESx/AFY92mAGfoB0Ai2FpRKxd4AFkxsotyLdoH1NHTEuQMKZhywNUPmrHyW1jcoXRpzLtxOCJZ9YtoAAAAA7AZ8AdEb/AAADAB8bGvunSnn+1R3+IMldDEewBVZBGyoopl9b9eACsppJaFk5iP6mDZNwFmjMpnRTmYEAAAA4AZ8Cakb/AGvbTKAIsndaGlwJSdlFWRAamfekVeAA4qNwQJgoQ3o7FXyOn0raGO3ceqbrWKFsbMAAAACYQZsGSahBbJlMCFf//jhAAAADAElkT7Ru1AaLSAFuMcK7NZN3TsoDcujFY6hOY0juVEJAJHl3vEUzYPf5SMY9xN/LDHQVowMARs0tZ1S8eG1sIHGb4NBQafHUNOu6mhvgJd+Pxy3XCqKcGx13ynKIQ8L4UeMtA/aIwcKqHsynu7R09l5VZLf2Rlyi+8BR7FrNv1QtKNIABJEAAABHQZ8kRRUsfwBWPdpgBn9UFAZIGw/Me8M4NvaXHdNnaDqtkZ/LgAjABT8mcPHt6OkWlBiJP8cOqi0O/ZEooj5oXV9D8L5Y9MEAAAA0AZ9Fakb/AGvbTKAIr66gkvHx08GGy4IcX7SWsgqhY6psA8YSjWWB9x1mTfyuhdy3/RxjuQAAASJBm0lJqEFsmUwIT//98QAAAwAAtnJ9rMaoGFVjgRfoogILcYAJUh3eZRsb6KxvlHpdO45XGQdTcNdojYZZRYdhhSsHtDvTj+BZAeNgqJcsnViv4EVZfNoPQKyaGA02i7CXWAHozxC2VRq2Dnrt1lr65AkdyEcQV81u/i3rR4Fxi1BHQ2LRuSGU3s8+5O5DFbumWcDGfxsvHnNLmv92cuT9F9sxRqCzzH3pPJ9n4F3gKw66y3tv2yC2RZ6lfsBlZ1LjQs93bmIsaqON3py4Kf7VALW7st/vzTslLU6kFm9VyOhWvlKDQF4N4W+SFOQVj5YSyQ3UOKW2ArFluVGAd6SEFFSXfGGiKsqa/pIftT3YAka46hp4TEHFHj95PBnoCs+VwQAAAHtBn2dFFSx/AFY92mAGgA2tOVMLKFqYokC4d75O9JWdxLBwbyC4E0yxg0AgASetKGULik3pwYOyi3CRgVJEteLZzHG88rV0mqeZo/WGDLJZ9oNUKFqiWXsdWkCrtrxnH8VS3FS5F8BSv2asDaEvre1UkuCL2u6GsDfVw8AAAABwAZ+Iakb/AGvbTKAIr661wll15/tYv3+Ca+vbpPQHzkFwHksAErlzkZpTPoI77LT2kOYkBLuY7JcqpSTPZenJjfozq1DSnGDwxNygmGrWHjuH5HePdhtayIabSUNp7qhMd4PWOOeCBn1/2JQF6++e4AAAAUpBm4tJqEFsmUwUTCf//fEAAAMAAEW6JtZjU/qQkbC3APkvEU187UU0tXavZeOQhxVpeb9Uuxs2ISszRw2Dbn619X3D7cBL/YRJl52MqY84i22utO3BBYyZ09mWz2kkJzroBp2bg97qg0s641THueYa/m3E7zMng0BmXEYwLEwQlZlCH/8EanOBLopyoRrR7sJ0zTbya2NoDEL59GmnAcIpCs6bgSUpQPDKo3U+xoHc35wQDaiGRDePhJbf7wPF7lAegtaKrbz2i9xvFYL6lDxIYRkpf2S2lxWhtOW5IrZMN+LrT3xSdOyJp/UhwoZBztrdu5T8f5IJeSJFdVbG11kd8mAaW0wxaURc2e2whldBccUrnEJjG5zfAXkSYyw/ngYFHJCzjD/q1aqhmpo321DfcS6tEinrjMUf3YJIOsZR0la1CjtOU/KlvtkAAACBAZ+qakb/AGvbTKAIsnbKgFYWu/tEeYAEWHgdmQ3lcypXzdganQ8WyQT85sYFl5y+xJpsFbFAYbq23XzNk+2cSBbsrwZfD1G9RLa3PHcEU7W9/Gl/sROlc1RQc5vca90PcLKtEPTirANDA0FNlR74EbEfqhGmMrGWZSXZbdm/GjfMAAABN0GbrUnhClJlMFLCf/3xAAADAAAbvf9Zg3icrdAAcbGmntBkjm6xhJ9eIO70Fu03OktIQl2fgKXkJLQXgHTrleqGPfZdzSfub1LRsJ04acP4mvkeuXgq2Wbn8x5A0cmeJ03l/kjQDPvrexZNratp48c69F1tM4v2T6Ddc/U6GQj/fhges/k5UXchkzBn64cmJBaiVIdDkuDzsIEKcgm9tkc/RZ4bFNiKwi4euwAUUiQL17L6Nt8nZyqlYVKVqQAqpSn5i70YIqUq1SQ9EmHFC3YFogd1gU+mOubra2AUI9CYymOctGaCdSJiIBp+6mm5ZYW27wzOMwcn3zkfVAuw1X3ICfeK24tnVSOgV776sHhErXpxv23Q0eUdaK+vpCqoNvbNlbS97lVrO0Lw9JmkZCUidD1F19uwAAAAegGfzGpG/wBr20ygAIFGda3bTURUj3vrHkovp78/TS2dknG/vYARAJ1/WIVgG2HZj6kLuBZF5sfTJQtF62VI8b2l6vBKVekAOBD3UM2pVa3MgrqSPwHEsw6Ab7gBWX4ZaEs/2M96By+jNE8ikOd0vQybeSori/k06dnBAAAA8UGbzknhDomUwIT//fEAAAMAABu9/2sxqf1L4cYW4AoIHw4uZEOmRrT3K61wevY2LCMgx2jEs7DJhAvRZU5Q4G/yQaky5sJZs05lhbH49ChAqFKUIcuufkssGmX5qZVHGWU6DSLxSUb9jvqw2vFjZzGlUnCohLlE3I/9hfpXSFqfmQC8Bsb3/MWAOF85q1/WLQuOO2N1b/hce9OgskeB4G78ujTzyEwodOFgVTxyGM/2jjx3chkQ38x/briFkdOK2TjrWP//+asyrFV0+jWOuxdeGeGPEyfXKzdjWjtKzvTMrmKZuGXXh9PaLyDks+cikcEAAAF3QZvwSeEPJlMFFTwn//3xAAADAABBQMahEBxsUMZHIJCDhXBxZcWPRitT0DvCVcllh2a7JdHkI8l2SzVSvcD3oBFW9Ouk5SzyWi1j0greDVJBuqr5YSReWhKHtxs0tHcvxizonJsJ7TEJ0cVnu5Dlc6OQI7VodWgsTNsM2WabFTX/LotQrQFNiMjGBOOnPSwBe8Bns0N1rtjpuhQiw+pWySfuEiyM63k4VkhamDjQxV4b02QqRNGnSU1nVmv2Qti+IZ75FyNmVtLV5wirLfr9isNGQKPWcpPwlcsfgFh6w6S0JgHfGoxi5yMyoqg+/8AvvPKuHkfjWSlkJixKN5zsKr7isqWYTnAQ0Y54GwLGLYCRAzbTHY8fcS0m0BCpi4X5M0CZmog/iCRIG16k5yagwNn4yBAXuoG+LAOa1tiCbHe9+9i0mQvN9/9CvP3JUgI5T8Biydy7EZEb8IFpvr0oOdrofvg3vfdc2IVQI7YUAhjWW+KUY9EBAAAAiQGeD2pG/wBr20ygAH3S/DliiDqjFzcQWp6pKgfONa/N/jub5utRMrougBbj0TEzIihR1PxFgU/CSCCsAB1xf8vw+xoLbcGCNqJmDZZIS/XjaNjJ8v0FBjqRtljH7EFJl7pfVg4b7/3WIbY99o4tzRqQNG9F8Whp4eCPjwmSHaeCgtu4N+DskOYcAAABIEGaEknhDyZTBTwn//3xAAADAAALo08eAtV4BMsWYJ1EoBorosAy79Bva6fS8LdG4LjhPoQR7QBetwBj41q8iE7NhwqgtklAPO+HbshE0nx/vF07F/i8/DeqQryn2L5Go35/eYM9G88N5bik+tfR36G9mjjruzim9hXWxhrfkS2UF2rKAw1oSAg4B9pwiHFMTkyUndRrIATXDP8B67say8ZyBPdNy1xJCFzkAMnef5G1mCaVlr/vS9SBO8teUoSQ3WBV+uhdvZc8KXrQ373fylgM3EVUQ3TIIHAXNBRRj6yXOtO6s7qhhfbqbBO/R846HCxu89V8/G5sVoNB9Uy+F5ZbWPsy7zXPbqJNpp7CHqg4fdNL6hUeijnh5aMgANEASgAAAIkBnjFqRv8Aa9tMoAA3UZXTn8k4/aNNA4xxACvp3lVpHRdNlFE02F3gu6cB9QstkkxO9/y5n/lQlbfDayFKoJDBlqIsKXwsYaDKYa7cPelXY83aV7iaiNWap7nHbitNN7U/RTZgEXM3XgLpN3WKlH0N7IPRwPjwz1ejM9dMXhAKZ29V9hpO1inkcQAAAS9BmjRJ4Q8mUwU8J//98QAAAwAAC/A5wQkXo28P8ABbX82TbcIhTv8CiA2hhwWBMqe4GOinzjiaPH9Pds/WYlUQgcqRB/wm4GkuU6wb7IOcAhcB4eolNlBRmaLRLkAXdj4H0f59KsxfJxo3kzCMIftrR2FnpldCgGhY9paJK+mVMuaCrUBPCm9yV6MujPBk1G0cG/v/muCekZok/Xzp+ByvTZI+aWW1/X2XxawOSRTA8Hv4kB6EuI+miRJSSu296wgfqbtKn79p9Tf6ww4IJsGLy3olFcbAHgzeduW2iAUxIIUAB6b5ZoeFxlEQYqtWDlx4hij1wFVBazYOxvI1YcJfqHOCq+Nh8PpE+WvUM8MXC66bBqagpQHBjj2/i6ZsJ6rh8NzvK9a90+PXN/hc98AAAACsAZ5Takb/AGvbTKAAOK0+cYmF1pDiyAA4g89JHrnK0VIxLIICjuPbHpco1A/j7WPEI6kVhVu9fZYMD0C9CJ4TeCS5zS0AKhr5GoUVjNad2wCJBlrQuIquTzFcDja2wS2/se31opHvhVTwdBzkhUPaXkxKGkaAhdI9vI8JbEVy7jXkIM1gvTWR5otOk6XTrpg5K/hvd9xrLKnh2FrbubaAqjKK61vIBTWYXNktuAAAAURBmlZJ4Q8mUwU8J//98QAAAwAAH86aBha9hwAS0Jbecomc4DQZ4d4+TqnEtHGi3vxijiwoCpuUT+K6xjDxIJj22Y10H5GiWTzaqf2vOoaJkVVsLWAsBQfmy+ju81U/kyUooAIofugO6xh4MMIZxvK9sGPZG6UpIfqLL53IUsFo0JaBInH909j/5TqdJIVXmnKeQ7LDPylQ94xgByO/Gi5nQOr3OYCftiHAaPN7phmYewAlrjQapP2U0KjfB/FxTrOBHNEJVAsqflU+4rX+jULoxpdvJUbpoByJhiMRQKt1mXsCd9eh92fNT/RwNZ3zZRqmQ3cyTK1XTOAg7puLDyJA3sQBv3RcgMaTyUmUVmBCmMtpKVtGvNfgnKtwxTpn4Gi7m/OZlAsYw+UWgKc1wE6GwsE7ZlRXC5k8GcNKnXCmrrk/KNEAAACbAZ51akb/AGvbTKAAmvn+5NYmRJ1PWijLRABa+jjPPmwKVyFb7txzz75dKu6cfrzPqOOJIyU4iGkxWYI8HvhWr6LSfPDL+4WJT/XGpx+DZihfVf6HqnOATUYjmmQwINyDCnbtnScyyCY4lUEy+gNx389Md0u/C0fWJgJLEoZMpggMaWk9BFAXKrsUAyXlreKdkwaY4i+kiNpFV4AAAAEMQZp3SeEPJlMCE//98QAAAwAAIMjXgRmUZ8/xgAF0rVazMZ+1KGbfjaRtX0eRw78kZIcwyhm9j5nFzvoeKFyXnqDB0T6+de2I4+GFXJOaTtiWfc8UXGWaZMi1321OGYxLWXFlmn3Q8uJDL9Whc+W1rHCB+Y6LmoAHhB4Wuf8RKoVSuFYsVl8NPnoNhuLTbTtQlLJ/IWFY8UcaiEKQ8yK4iLw8ceG9ccqCmGIjxF+aFWTJTdJSigKCWrxmtUBV30ARkVfZA36QroYfe9GUzwDg7i9sdhi9IZHmUGuCb3/vZuJWP4iPg/zyn6UusmOLhz3dkjctz85c0XHwSBhvKbgjbXcFVVRXGhOXMwPctQAAAaJBmppJ4Q8mUwIT//3xAAADAADyXMz+f8/gAbzrqUpDrxEKc/6wtLDFIljTYKZxhcEgxWrhj+VY1I+f8K1EIMmxdIarqVEBSLEkQfImYekScHaVwL2GX00wcQ0uY2HoYtqXCqRQoVXxEbLosUN3It/kVm6NaHkYm1F43Dfb9TVYnjD35KoIPcmjpqG8X8+ap4SDdUDpTb2uxoK7Bq8XUOpX1bsO1+FreyNmgzNeidurcKrT/7zNriT6bsktiyADNuz5LnN+dS/lbqrmCLJ1pZBrIujX5/KvNiYDkLDabvER+ragfcIe9lsir1VaNu14Pn3xB03CbFODAMtzpyLaWSnHoEuHrkXU0b+itq8c4j+ejzcAU12Q1dj2PtOsH//R7HhX2AsgJf9ddn0Xjy5EFKD5EpAkFlA40u3YtHxzlXSjNCX+tr0uQYBbh5dSQasb7Nw2rygOHP5jcHrAa5TTIwHE5KME7Oc5RhJOAyLCeDSdjzuHkZAX/mO6aw4/mQA17WMVQrg0bS5xtFyw1zDGufushZ8rbX5Z0NSlxhFYVf9cKMJtAAAA00GeuEURPH8AVj3aYANnPLI7JN629LHnKFAadIAN5qqRAzQzeqAEFZy6Hjf+mQAPLByuHKve1qtxmU3kWcYtuJfW9uGuEnrcHDd7MQPbtsg7Orb+OthiMnDWqGQngDZ0uKm5Rbj/U30w/8AnG9MpNQ+JfVnbCdj3NuSVkpKNjMAOy0yuZ2pjpPMZGTxeIh8b0Hjbwxm25VxYinGgpd3CAlggoMvK0iWy5soMsNIhBSh6y/q7R+3XxJHoLmszqkKfRc8/iF4dn51hRFr+lPokPlulXhAAAACrAZ7Zakb/AGvbTKAEl8/pztiU+ovbK2nIosNC48fGAAlamCApn7TlKoCR0qfBIv1F8FIQG7HrmhVqzG8ZuqiW6C6sxs4vBPG72MJ2glvfs6CS7hyAhumXgtWoTwXCI92YvuDstNAXw+LjdgJivUp9muSciEgVmHLvnnPtKul2u1x0WvLL3Vd1GwbORqNhgo8L262ItmxYbA2/+nWa+l9Z0zf4W7IN5tm6qVBBAAABAUGa20moQWiZTAhP//3xAAADAAKM8qtb8F8ARMArzqhQ4KlBsHW7yN0Qx9fNL9SdmASM5jPz6KmxufJuaHL6a9vKCQXQzxn7rX3UQXNB3Q5w+YBr1YVaaxjVTaG/4syRSQdmPMlByFtB6AIF6eRu4Se3NU3/TFTRxd4fGr0jVeJC2Dpmy6VPigqelhSDnAt9C9DoWW6cpI6FqoubioZwIe5B8IHBGH+qIfIOtInvx7YtkRnyuxwJWMx4Vl4BhJ9tTKyi4NsQfZXYlpKpnGO7FG6J2ZtVtsh25c4Z2hqoxgjJbpN/QvQjTouII6iP3Q25ZLYOJ+IpYuKDpYX/2xvQBR5IAAABDkGa/EnhClJlMCE//fEAAAMAAp44u8CgHRUkl6nsI4AbZadJWiF94k2TdrAjg3wiekvudnrHhOvjIEHKrXHcgwL4OsdtIc6lgerPnpreqsL+hRqHkW2HujvBwVhFQ1pIX6S00s/GuuNoXXXJDtMwObKcZFtZaxyAUtnEWdLDkTyGzIeHKfjTWHmzw+NvDpXlN9AWi4tWGt5265iwaLh7dZE3C09WT8NZvbT75zF9CpD3nCKf3S3Fcmvh5YRLcW6q5xnPN2St5xiR/gbi1rt0lW6P5UP+5Esf9SjquQjXTtWtp2CPa/20L6Lrxo4hKFChJqDw4GbD/7Zwy7p/3MexN9b+0XGyBhjSiQHOuNoeUQAAARlBmx9J4Q6JlMCEf/3hAAADAE9Zhhs3TXTt1O3mjM9LrsZAioAjzexYAHKEHc7ZWN8RLqpm5y/qgFgR1e7R6EzKLyDSou4LbxVij6g3c5mZAuOq16fTGyJteItcn1VRU9pjEFe4tmqTnmVpbajCDqzTITVmh99JGXRfHhJYD1WxQTgxxyGdlBkDhZDiM6v81YVGwTERCgwf3YFBEIBVx0miLXuUar+NwScXIxPemt8uSzniruLm5M3eY6OBlzCOZnCK57E6NuRs6HLgw0SB16bF4DRchxXbtxh5zgG2UlzdLfAPC4oP/my7eoxP4ClM3/qdUVc6pN4scP5rqPsgBfVxKLzrZ3OziJ7925+NGoY4xUT8MIXQ5d6zcQAAAI5Bnz1FETx/AFY92mC3ZlY+B9FNRodkHgkxs/a3AW3fSHoUMpLInCUdrzj6LRdsWe9uqCgygJIsQYPyXgAIIPXXgI52xJ3mr2ABPD24xA3IOLUzZnLbODXSorsqrjFwTdONRaoyqO5MMZARylHM7izk0L5Js9Eo1+3Mmaso02QzFRK1WbLn8zmNWP4T1FZgAAAAXgGfXmpG/wBr20yg8zaTzLBLakP1SKW4P53gqADgUFqjx3nC59udVwXx/RMCTONBVhTOorNlQ88b5NNhyQn9ztsnDlpMvf9E6usuoNXLZKEY1WxRAeCLGEbB3Jt1KIAAAACiQZtASahBaJlMCE///fEAAAMAM5/xq1PtNYdjAARescYm1j7DU4c0LfaUv4rA/h0XavOSfikXItUGNQI0Yq1VH4X/FdwU+tkX9H0q+mibK3oNmQOfkk4DVTBb2f+E1ixdeH+SVK12tevrNf2QJz2X8948BoJsNhpv6+zI/bfL2T/poP+z2Q84OYRFSj7JY0a2acFPPxRAk/grULn0+pjz/EOnAAAA1kGbYknhClJlMFESwj/94QAAAwJJ+14me83t6Rbb2RxhtldopeNVI1UhBVfcE6MP/I62jPSDCiekAYkT0Laije10cciIr0V5oksMMtE/zeG3NGEbFFwLQ9QErf2DRDpGPildmywVlQ83N8wq/GkxLctsSLKY9mjm7xZRxGhoewF2B3yrkhAbnsgSVw2f6+U3zbSV6GqrdgFj08ZxVJDEFgHfQMqbAMyquGfiYRn6nd7TIl0ybU+HAsAoVAlMm/uosYqhOZaQv+DW4jC6Mzgy5C/OoEocHuAAAABjAZ+Bakb/AGvbTKbqMqKPRfl+Gclncf2AII5gDpgKORlQA3AFCkHlBRqkFcCB4EeVX8uUBPPyIwsZoUpKsc8tdQlXcFnRjg9yKFBzyq2M2f4e36C+g+qJv0ijGyU4T4VCfTk5AAAA1EGbhknhDomUwI///IQAAD9PVPaCEk+jXHM3F1Zv9865gCDRLHGxWGWYUBf1JPkDszAv4NSIr9XSR1vcFpJpwJeRzy+zfhlfLpyVlXuqq8NGbx1nF81K0+0Ir4saisEJN+mClauLg14T48Y2UZ18jiIyOorwISbabMOjXg0Ar1X7gxoWGMZUlpTJI7P0g5QTtZ6T04SB+Dii4+b9MFaaeaAleYimzzvJQM0CuCPzaX/mH27z7jhBIF2nP4WCgX/zrpMhs6w2H6FNVrwyvk0vqbY/9QLuAAAAXkGfpEUVPH8AVj3ahh+D5cTOBpM9eoTT99OhAAsADXYJLfhm/72IB1Vomwy7DjbHzCL8l9+EruV6T5GbPkrUjlrZ9sd0So8SpFvwBMj/sC/rWBYoYo4344vl7eHiaOUAAABAAZ/DdEb/AABDhzH9DSSZtCVuw17oWBDk3ApZHUAtjUgNHkYA9TTVwardWkd4AjAkDQX24vtgepuQwcQ88/L1gQAAAEYBn8VqRv8Aa9tM05GU5lO8IMyiAPFWccABc+PZExXkWwZnnevhqepKQgNXFd8j8SQvQZNdu56zxBV0M1IfZS+WLMIxbqrxAAAAwEGbykmoQWiZTAj//IQAALCmcFnx+OATXtPNWBlP/up6wh1c8AIKCzzvGAI4i/Gae6HtmnMI7LZiltdjSnxfnnvQIarpP0YG0Yhs8S//2TWModUe2j/dbbLHFi+NHhjrMs4zjxo6NvUF/eAxD0z5g4iRb4XZjBx+m5epKkwAamkyW4J6YKKnLoY5bSkb7oAN8mbxA9p9C0ariDmaFmqzNc7fdLf5BYm6ep7eUMMd0rwwe0MUZRemf/xu7MV1baDQgQAAAHpBn+hFESx/AFY92sfsloOcObgAR7tQYAx1GVUBwCscMSPAeRqYYkGUQe049JRyhPMYg2nwIcsVFl5ez11isq9HN/+Qg4K2XOT2tqOCQs3/W9WW4ClU9fXsbTs1XXT1wH7aq9aV96L4mnooz7LMCLOUXr8AFDB5itxMEAAAAFUBngd0Rv8AAL9wt/YxFZyECSXTaFT3C8wAN/bFT0bZAHC7d54t8KJn9kC+ZcyvAGQA3wBB8ZKCP12bvEddaPCdj/MUkHoUUnqr8AK53QLaW66/+kNAAAAAXQGeCWpG/wBr200rAprHeHjPdr5Od3yBevAELrlLnyb0NJP5z0MyQFv1/nowKZ2lDLCiPg9BBonIAq7qSFLxjPwTdjIIbS3VHGwlk1Y4x2eYhj2XTsT+A2JBNM/+gQAAAMdBmg1JqEFsmUwI3/pYAAFcd8g28LtBJAewbpTj8rspbKBLiBuVW9lwGTpElNuzOiI7HYJv9yP1IxeeZR28QHu00uO3Yt1tgUpmxzW8qaIdZZvf9PYUvwiDTZKSrdMrxERrS1Tp0hzgc0qxTxr+B1t+MkBoc+vDuwludJh/Fm50S07E2uV6pOdOr82kC0u/HKeUAVuEuaMmVwz6SSeqQfEaszImQOf/9lkafmww7lU9e4m3Tw/bve8WOMAjrRa/g2316/rglbnMAAAAY0GeK0UVLH8AVj3ayAJiIXCNKJVgPXoh0UADcmEnQmZ/29QPV8iqTue4oVSzAomqiZu50GbUKcaWq1bTvHpcVuszJSaIt94HVBwCN23AZU+ZLBvyThw7t8O6ckYAGcY/laowoAAAAEIBnkxqRv8Aa9tNJwkWzJ7Z9SHfhNlXB3aIjmzGmyiABnaFBymiFFixgLf32u3eUb1FNtoFq79fya5Lx/wOB70qhZEAAACCQZpOSahBbJlMCP/8hAAAsfHMU+LBZGWYVgqXUvEFd5uVimymETLBwVoodLrAxlg+4zuuJgLaNy9gBAwfqYRn+eAeGIE20FU0bNQADSNY92zlLcXTOjPJEjvhJWiJCHN1prT3bmQLHxiMXzlREz2kk2fb0in7dboszYj0NeWNUHk0wQAAAQhBmnFJ4QpSZTAhH/3hAAAQ7om1WJRvgIti/NDYjuQ2Ky7//dsx7EetnZX/sJnwpghdt16NDTYhxGEbwiIyjxjAb+5rk23Zgnm++5YF8WzFIH4ES+97P9NC0CUI+yfAwrJYbdlkxstTxZknloW/5fJakroCoJAJ9s5OcA193hTTim/osmFcoh8EgHCyEF5lTX7LILK1Y1fiuBKkWKZw29ffIpf4c2KQA3DNyWMX0exw8n2MSTGShKIDR/gNYvXkqgjggIt684rt50aOkPl2r7TRNBfeJG7eU67qe+3VmNYOXbfn2j0Pk2bj3NaNv7JDj+sIRNdX649aEMQReqXN2XYGpNbZ2aZTECEAAACFQZ6PRTRMfwBWPdqGCLSUCTTwwJDQKZYvGVv7FsV7k/sAIgfnIKX9pRBGlV0iC488ZDocBLmV3K2J7on4uXBdHMU+xUINg+1zuVOHfHlLQN53drRNfamJpsYv/pCM0zvvHzYWG7m/MhKtebjnTTv1OKxBjp+J7+u+oDZ+B6pgCxTf1KqK9AAAAEgBnrBqRv8Aa9tM03fLhaORg5yQrZQeHnaX6ADKf7wgQSwAWyWmA98wGaIEXHTXVYf3ZH3u3ZJzovuljEWB4pA7U1j4uXD9nWAAAACeQZqySahBaJlMCEf//eEAAAZPf9pQARAJKoe6Db/Fx0Hf+kJymCj1w7myiEJs3O6WQ2sdKuO/R1EjZE3oYGdWt9Mt4KO0P7oeU4yDzkI4dZayFOrFecUGh2g9Vx2DJFPKQwS2f3rA+EWX6AmrAC4U9y6hJC0e7AKCDKDcCIX2JIc61gvwVCltYrOdGpnrYfKxVcm2f0D5l41Fy+gAPCEAAACtQZrTSeEKUmUwIR/94QAAAwJZp0PhrUE5gIR2JzgqKjOU+1Q8lAUb0C+msCFz3bm2i3aHEUwKF28631By9xv4mfUPvHi/J5htXUYt7jXNtPlhP5Ofis5x7Dr9b1l9h5sUSZg0Mf3vzVxFTffRsFriZnHkl2VE/ZSjxH7moLJafAQgOMM8vhndcyvKR/DRU6czeTQHr+GHKdOqyUUYUjSpA2JsTnhUDYgnXb6xr4AAAACvQZr0SeEOiZTAhH/94QAABpj5nCKE2atn8AuRjg6Y6GHaIrZBDR/S8LzyU0L9LadTuc3Quns+yAUip5PllZ6Zqw927NqHQgxovCRuTu1s/lENHhKan//R6s4Egwo5kRqUP/zgZqBSxh6mOV87thps/l5KIqXlX0wlBmBjebNY5VbR6J8CdinXN5PSp8F6IgmEjfdcj0tkdps6EzLiAGSsCFxeMw4jMcTmtsvMGnJHHAAAANZBmxVJ4Q8mUwIR//3hAAADAOHvKQSSN03S0bslr/vndY+g6w9L/USrOtmwy66UTi5IFA46l/mbVTl8yPl4EFISMmMJR5AasN14r+7/OlxCIpzsvWX5rWb4NsS9K9E4pzoKpxIYDFZbtUc3q+m+Myg2oKA+ZNchbPZHI3+29fWSm5GrB1J9LLGUQPPUfuznz98ZP4N+uTvcT1BeRYq0bziFdZm23s/HhyWxwiIgDl9fSog3kHlfBNsdcp8C+8DHMnQq1wqv66TC8/J59GBDqNsmQ8GlCFlBAAAAsUGbNknhDyZTAhH//eEAAAMAUjk+GMSblwH5KNyRvxFrhEGchGiEIyxgjkwv5rzNJiewi4sSFxveIwgEcPu4SMwMvk38l0vPx/NwapKFjIOxTLnRiysEVQKfloCMn+eV6dv68kVP0DKYZMSEt6VfCgQLdBkv6eVgOCjz2TVy7pCkJ5X73rNcf0o9kInYJAjV8DKU88BKk6P16A+e8plHsnJ0Zwj6PXaHxYqoqUzrlarYtAAAAM5Bm1dJ4Q8mUwIT//3xAAADABLuibWY1PIwQdYFHgIVX7vGKz56lGH2awvkMJRVrZkbcrVQ9uESd/zTXCxVC+ecZthMDondpAMlvmsVW0TYYn6JtDCPTY1+9A0rUkUixiEUmK9RMeoa9c5EUHlMwlvHwksVraZ67+fCjBfB1eDSgsOc2UONi4U7+mVUIS2J2QswD+ImtSto+f3mtWRbp1hyOVUXns0p+UJlVuXMCsedxH0zI6tZlEo1dtztbrzrNrgAiP9WactLcyGkeqfIGwAAAO5Bm3hJ4Q8mUwIT//3xAAADAAbv03MaW9n9DQKmrFBPY9kZ+Y1DgH5HEE9be0GHfk6vS5zSoyiLctfLc7USYPj8vfu+Bp6uG8SeQ6BxsAhSKgq76Vy2pUM3TlWZNi81PSkCFnz44qzB+8Z3J+oD8OVzF7xGVWDLMbKjtGsI9wWd7Z8oXftV/y00jDm9sBeD9JlqMAassnttUpHe4REODhzxDI8JuaRkaMhKatEhYgH35yyiGh1FwfKPMXamtmG1OHnHWDEfm7cP3wP8BSCnANhdV6QNuwhyaZK7n7m05HdGxT3bu6vW2JUx7Vl95C7LAAAA8kGbmUnhDyZTAhP//fEAAAMAApHsRcF93AcVq8BIZxdmH8csd94cKQ80xruK7tMCTj9H9NFxnygRtRVoL2PzRZtSiKerj/BnnxnHqrr8d9DqiXWGtgfD13m7p5N9yK+eZ9X6S3WPel8jbHuZXqo9mlmhlK5A4uj/7hfQLS02hVVGPcFkUNP2a/mBXrxE9K30O8gzqKxLf+sd0Pn/7HRYMEcPPvVcvSzdt3v/Yukx6RIc5/IxWsToI1ivyEwnlZs+eM1D99WpalvJuBL5GsdvA+I31Q5r9HHWllnKKQ4VXciCwuMCY4fxL55O76nc/8//Cxj2AAAA5EGbuknhDyZTAhP//fEAAAMAAPPv+2S9GScW5i1mi1UoEyw2UV7V/W6cqJdfp9D51yDyxo6LDLXzUEeiF54xbUK6H6kFe9ExqKZw9x/5F9Scgn75msf005DZzltTBaWa5F97/BUTwNavIfMca/C9jRzxol3udTQjEGcPY2uYDfKhXayKDE5ZSp+HndheYCxGxPoWqEdowKzyYVMWnuZSQLKGF+iLLUlPIvvsriRoZyMduBril4VTkUL3sFVBZscoM2Z8nzcZrb0OPB7i46Gga/PvdCHwkXbc6ouOpi5/vL+ZKrjowQAAAQBBm9tJ4Q8mUwIT//3xAAADAABbOT7Y35UpZfR3AIQMpWCfGMmp62oaIRiNkUKsejygvETPonKRYw6iUIc5KmqFcaU53/+naZxa8ys1/gVYq4WJRgvmygtVY2XeYpKRSrqTTeEojRJLEvdkBzwZD9BKwlJCO6ie62T9kyicZh6/Bg6vdyF5KfsoHvey0AWK/nDJATdjb0B+H7ZkZbxmXct7twWzcaGUgTDCIBIDfMushtN5wef0KF+VTWjtBVekDEsh/oEKzvwPJmvkc1RUYtNJyLRMbeSBqBA9/KtP6o9xpaB6ADLlKQbNUldEA3eCHQMHt0q57aZX/H7kN0M9HVbgAAABHUGb/knhDyZTAhP//fEAAAMAACDdCNbcofwDZ8jZc7ek+gTkNVlQKZ0xVOcjJ2IlQzqLsUImPZk1ljJ+uel1GA3uFELwgsczoqWM5FmnepgUhOEruaxj8uOXfH2albeRPvYrdXb8rEcv417qwFdEOdcihY6kMjvc4/IdX1++JyXTEOkyQ8B3z1ZCiaTm5cxRhtbQdlQmn/knRB6u1scQliGuJrP0gyZnxhxQdTHXSiv//+3PBFoY4UT7sbGf/UnY6V3eYDp3HrOoXHg6GqtxTzXJPvFNDV4kKKRgcGHpl4ggdMNSIDi80m8Hgvtx2CaGqWHxcqsI5PNwNx3xjGwvrq1WsXEjEf/66KunjR7u+/Qj4U/E4h7hXWi1aFPzSQAAANJBnhxFETx/AFY92mAAdKuk5YCaCsniCy8QAE0tNjLcVjEXJxGTkaU0Bu7pJtQXi04H+tGM/YT0EoRxW7ChIJocQH9UPy99L+diqshYO2oVdXR8879sVW0hlO28RanTAKgYpRzbqV8mPK7aA/X8fEmn3VNs+kXU7FCHI2QIhPSW49V4K/jxmDoLR6wOSq2+BYlJgBcM6Uf0Gdfhk8sxn3Lm2Gct17zDf5bv/+89QlgcT1Sqhag0oBgiSlWOBZSlEUu1UJ/ftNnnhKM5CbmyoKdQa7EAAADMAZ49akb/AGvbTKAAmq80ijHhxOgIFdLKABTsNrTexcVfBQ+DlP+3FOYPrqGd2Ns3DNuNBV1jaUY4/gcUCpxEkOYGWc91F3XNAKSRb2w7xyg1cggEVY2jhfFa3tj7oL8k83P7jszVDcOX51tNSdM4z7Q/uWQfTfa216nfJXzEeN7gF+Xl7QY+vd4MyhjfX7MIw+7uJ9Iv0Afkz8N+/gFQuUV49qwKZ1qbTmV+FiwnrhFdsYbtY9+jBTDastN5RfWDi+oQZ9gTJEpkBEOAAAAA4UGaP0moQWiZTAhP//3xAAADAAALryfazFdxni5AFTUZtakYpVpTPyKQxjQBw+Dc7B6Vw3d/OojC7eC6GOIzfssSDoy+2JJJ/nmASk2KWRRhEBZz8YfUXb4vBpvse+eyLH5wU2kYzGDP4nWSwNPXp0CcdyEKYpBSpKe5eWT2cuwVMVflttq3RFwP3ZrYaF04UIECxYA2V9XcGV0vtPzCfb8Sh1yFSfnBlkVCFd7v/fzk34qVJ8kh7VPaowQfpIenXmU9IqwyPSfXojWzRxg1nuRN8LLhKPlGiU0129rSddzQMQAAAWBBmkFJ4QpSZTBREsJ//fEAAAMABw+tugnQkFTWP+xCgomwsaQ6dsY1GW1XEXLq5x1m0Y5A97wD7LRUsKDJAd9Lv+VYbVBFUprMq6bsSArN4KZBpX2ClIw1WyNOWR+obxNY40TYw3JKesfd8RVUD8oSwKF2AYvf3Ny7/Zy+Bt5M4NEyl4AY1W65Yat+VD3yvlam2UecACC0f5WJ6gcbhBe1LdWmoWxdx0y6NbTE9mbnmU5I6n/vuQweRuwIKwoOEI7/6lCSBFECnI7cyTZfuMsnu1Wn5rMdGBmr8/ewercj3eVwmCYAjE+rZVS9zLEOiloBMn98SzeWBHjtQxIQWiD68zPlCIWKCtwjXDSMglvSa2DSN1MrNH5GnMTT4sR4SIMnrHgGyDmpM23dXmN0rHewboPlAcQg167ihd1361CIci3hITjq94bUSgVZy20RIJ2djPP+Cc0F3p64uJss/7ZFAAAA1AGeYGpG/wBr20ygAVkfA3Bo1yCS72DltFZVz3OWAKvX1JQIHVhMH48BDoG3lZyCe+ip6BPHcCgy0przgQrmhkoi+jZaP/al5aNmqyHgKwIyW/DVZhwzOLxFl6mX/R60HU8n8dhq1GkwGnAW9Gi2i1zYm1yVl8ttq2vvttTlzC58AyfXpH3ogewWy80nMwDC0kgRUJ9KlmX8xSsQ4/eLcw2iqT9QSqdDJ11cmb8Y3bMwFj5twI5Lg4k0E3zSsHpgE1Isli62gxVqH6ACCY5ZDQXclb+hAAABQ0GaY0nhDomUwUTCP/3hAAADAAEdo3IRzP6MAHHsgSjNz8Vcc5gNzvz2pu6eiXyOeYnsx5G0geVT7fRtsNtl3CGtPXWEh/Uyl3XuifHDvmQONRfoYlfRG23AIScHuZqX9NT1Ltl+dv2f1gNn6jcpWNS0RaRfTrSdmOwGMf0Wzjc6s7pco65ID9H/UIseIMgBJsUVuIIHKO10KfGGHSbYC/VRuPFZEFtIUeTHRkL82g2hLbrSKx/9SLFMOsDV1z5XjDS4t1n9V5y91f5+rmFrtGPuHZWvFOmFMr01sBYKchrte4IA/WLp44seqXyPludFUbvXZXqJgR/tR+f15yGVB2DaLqSklLJkTxVuuZXrFStyGW1pMEIeDUYNcZRNeIMR2m/2tJVjE/UyMwHBOdOA5Aus6jRsTZ8YnJ3IrtBnG2ygEr8xAAAAygGegmpG/wBr20ygA3OYvDKOUvMPKgAWbwENFTsz5Oer8sIoT2d2ApPMamsRLss4+pb4oWAaTvgzVGxrOVzd/R44mczpyA+VfW14AceWcBfnCxWkzaZgjKt/QWdYhmUtE1a+gzB6PM8Wfj7DgGFORqdBXijQIvek5hcIbhES/NZj3M2tokPNlHb4QZuu9SH0mDrhsARtrgtjOVNCbi1EAuIV451jmt4/6HuzYCeYA7HV/JLxiW9L9wwFyt0I3deEQWT0P6AA2nss9IUAAADvQZqESeEPJlMCEf/94QAAAwAC6KpuVosokyZDYAA4SmhFpVZg/ON+ivRh/IknCbnfYDh67YUIisgNRkKZr87UJmzP0Wfk24k+Uv+U2Jb4gu/mGho97JpQPeaE5kusyrKxB4Ng5NbAjAg5dIgex/Tu46uLIhSo33EchpSv5+oArp+TYOiH1jWe2b5I8VPCqArLmBm2yW3rsBi3RbFpJBF6e5+VpCtIq8vZhKM/MG3vWcdSdJdrUUo1rMfoRMLFyISk4Zfrnqa5C34pbKLZYD0wVk0ItM9C7SYVy1IWjRaLBc9YIzHmh2mwk5gS4d9ohVUAAADqQZqlSeEPJlMCEf/94QAAAwAHatnjpodlsHmCyJACZbCexgL7sN/GJlTNyfd3ubE6ob2IOcAbXk9cs5EQXRzx1b2kCiZSkilIWDklnzLS2dyXB0XS+aLIjc3wXcqborgefV7u5LCOJh0Tq6aKXCvbsFKNm9Fj1y/0hZC3nci6+nOj5RXG8JQXMmiPEe4USveXnmkgQyFIlVc/Bo9NkdBqI0SQmlqE9v8w1tqnaWW4y7NLq9w3YB28ribsDw77lsnmCd5uN78VKJUpBbvaVkQtu+shOWZ6z4ou6MM3oG9aUmZV9rT9jS0qzN+5AAAA00GaxknhDyZTAhH//eEAAAMAM2K5wQ8bOgBFVl+CO+LjLNLADwVk5OxhvRL3v7I7RQncf3DfkSm9hnAtnnUSJqKZzp2vQsKhxkjLvCxdjwxao+SUfmx7USL2+G5lyPBL4Sr6Gf9Qn1ljWZZoM0CPvFJxTKPUKZMxos1a/x5z+QWQWeGW8PQBxPENA54C+4AGFmaEGSe6WahUuc4HgOdaxkSNwUZ/LBMXXcsLs2wKe8id9ucW6LNh8e6K82juKm4L8GvbPh50hSE4XOJxWJSy3L1400cAAADdQZrnSeEPJlMCEf/94QAAAwCCP9z+Njcoy9txgJMAQ90lfp9kx2MECVGyv9k8btsW44VxTuKUY71l34P85ZYr74EdChjGTZ8BX3XIZkRNnPZ5mImONJzjlglvvBU7IESEy2/Kp+Krkv+utvEaf+w5Ax8/6ErbslKYfUuLVGtV7aFhr5iN2PWshRzo6VQH7v+4XryfFCAAQ736p6eh7AHLaFOrQ8uWMRK6oFitWPdg85IZ8FMOY2x8fdZe4b8vvy+BslewabWiCIMiJdVEkD9K3pUwQmOvB397LU7jPWEAAAC4QZsISeEPJlMCEf/94QAAAwOHSLJGheJsl12JgSy2rwACFRAj+6s5Lifwa/tjFhh3x3zLcecwS+ZkwGCYGGFMGlYTiwlh16y1LnEdbQbNMmqj3rfJFn1C48XvcCzt/3M2qQyYSfN4jN64jvrH70lG+RhU0TDYXMhViHYH/3Otl7Cff94PzFT4nSfTxR85Xh2ckkYw5AxJQHLugvDioEM8L2ny7RBe6EKUwtNY72MMA/an80Tbd8BlQAAAAKNBmylJ4Q8mUwIR//3hAAAJJq6kA8RI3fOXL+LxmNIAcYmybZ4LCS/EGJ9ba5Od2xHZMmcC1rArEA6XoNQO8XtB1z/iY7ye79754tBEFQMuDZCRaXQr/7mswNJjzDvhOMYDU4ZFoI+EapilITih9vH8/sf01jT9C53Hxaoe2szoo0GXI7n6sVQEgMDsqY0vbZQc8xYu1XnZAlwvRnFXEbcOaqgcAAAA40GbSknhDyZTAhH//eEAABfzMv8sCNlwRc82AALoqamwporGl8UxddbvmqgC+ZEP0zyrytzSIBjJOuwGdHAjYUl2TQRoPlX+8aEcgmjBJrLc4CWiRKq0AH5W594ZS/F/LLE0ZFXTPXkdkLDSUpghR6pj+N4w7crPlOinCK/S91u+6d9yL47bvQOkNBTyEtYYrtVNETA9v6DkVRPEbd/3ScZL3T6Be3NJzc3PQwzmvEpxuqga1WI6NXAYC7Za393G6nAaeFFY5sG0GiVyQHJ31FNgEI9oxuP7OQHHkkLfOt5xoA4JAAAA60Gba0nhDyZTAhP//fEAAGRKlJYY8d0AK8rd5wGzjRTGcUvKP2ohbl3eKL8oT8jNvQMYwV24fYn0/OAPHmFIDB0EmL/rDgq0TazKKl5K8VEA5/LZ820WqTTl29vHRpzo53V0NtlVGlyF7eaSDfrs3QKi2nzY51YP47U1q5LEt4oSLLzI0f+YTBkT81kDpN04PI757C1uRhL+BLV3f+tWf6l36Kl7h8hIsBH/AyI8lVlT6PkB9arZGAOIM+S0aUB4LDZlyOku8FbRtO7p++ZBAtqfuI7Njv6kFLmUlVuvL1W8uLxxqJeGDvqyfkQAAADlQZuMSeEPJlMCE//98QAA/Vx8zsgq7gCJYQFkcJI7xsfgp7JbhheEG1/ioU/bkrc2TSWyoICxXwZr3zeb8Ork6dAaiOm6P4XdGNnww1Lyo842O+WVYHmR3nsn8HF+hvjmdvmrrfmwaKqjWxMEcd+Avk38xaXJ3Cax7fnq+zLu6xDeAmlsv66+xhPOaAxZn3pMia9cPknMOSi/nnuOA+WiS4sbRXj7nlRf80Jd/fWZ5WXfFKXHJUjHscB+bFxyazQC3TpeLx7HpCMr8cL++ce1UGFefRNenJrvlXn9NQo9Z867SoAO6AAAAN5Bm61J4Q8mUwIT//3xAAKe9JcBzfkap13eSuv1SAA1T29dmFbRqsSwajVF4ArXmN+MM6hY24jEQcRrlCAzFsDywZx07vaqGtFZi+rbT24/8vXtZm5VEePSmIgxQ1UOEACZAaeVZH6aAwReqbSNh07qbQKyceQQT/RZHO0a4QbJMCprSNPuTPZ8qRKQreD1YDbJWnC7OZ30/q5f0/mOfq4cLuA9f0VWfuH/dHEyyCK8Ss3ViiNob0wv7HhMKOYhS0qUP3IqjGGxbM62/7GfSNqH9PSBOu+mQ8VuB1AAC7kAAADWQZvOSeEPJlMCE//98QACsZ13gCEsyRIXXFK09TlyMSLAgoIuleT9/f6OCyGfYPqrNYTJ9BUkhBXSGdgK0tubjv06EmVKnl/41ohiaBLJRMKwP93HhF5W/Rd45nUpFvAJrcTP0//jjT0SPmwktmXBYSUItd1yDGvZ1L4nf47lvD6mxa1D5gRhLnbE/WUn7nVEFr8nKnn4y6K+hXUY6c5jpiMEzTBbuOXX8pgXoVLu1IEoEN9EsuCj5D5xYfbbMbP+rFDseDhmBWxrf1AI95WB6ez9AAAQ8QAAAS5Bm/BJ4Q8mUwURPCf//fEAENBz3AC3CdnmdMDuFPioL45XqxAGGctULSKfE3woYgnbfuer1T7ZQvp1U7odi4jHqDQ545t97WTcKNI2g2bJd80lkTd5j64OwvcbF2kMV0/KPXSH3TS3qHlzO5OZjML656KaHk/hsuZV3wDFf1PMTkYV+WaGv8Dp7GLe0tHlOvv6tYRfnZ37yR6xsVPenzJXh+J44rBUAKnCf1NgjnKJEo7Y9q5OFsLVYhCuGMrb5CXyAPVjOB8W2Kutn8wKNh6kg4MJ+Y/LEi7mWdtqskVZjZDGBY3mUOiK55gBVtR3j0SM/EQpoQ/Yxu26IFjlG4oCCIzM+YSXLmST/A43MeYNceSi/3c9bcwCasgRnyoxTskSKkETtAqbLKLUIAANSQAAALMBng9qRv8BJfbb2pEJLeq5AWLe6ONYXxWxQAC2sxuoTA0QnNsBqqvvYAUX3XPRDVLAytgWwmNTzMMsvvojHwDwjpPZhGdJk6QB5ROKxmsN7NCdZ48kFAVjsXm+nWktcpBi8hPgbPYJRCc3dbTlwBhGUq4FFTz/U09a2O0Lf2yDrJwc/s7eVVrOXZ1ObMW5+nydfu5xBtuaFYOTRka4NyY1pIFP8H05R3i+NAkAgUaxafXdiwAAAOlBmhNJ4Q8mUwI///yEAGn3/DS4xcvi3AB+477BAvAzEJ1p386PgW2ZTS6k5pCrRiY+9BC7JLdqC2LYQTL6JO3QLgc51KdIzkwGaNU4MEQ6SSEfF5VZNHXMSKOqXbS0r0gDPmP/TtEdIB5HgRMecGx+O2O1fZWoKXQJwaJ1OZ/sy/nRt2THR9qEM2QbuHKn7NXJCMEPpJdJ6zrljTvGP/fJmytPcLlDx7QTNU/8I56BDtx41HHP3Mi998PPe24Dwrrbsjbdw4ivrXcQ2mlsgv3v1x10+nFt58DddG7JqJhJ+kBZRKiYAACNgAAAANVBnjFFETx/AOqjvCp1AIAc9WGPJ/oGYrB0y8JJZ7+xZJz6FAVwfl22XdF5tZj2EAXLTz6tb31W1ogwuC7+XZwSOc2moI/xuVJOecH8tJB7kGdZmIz0hXGXavLrKV4Vt6elN4PsBF3oMXXBitxCYkWV6fKMl4DcSPCBgjVkt1UfBZrkhScM7PBBL6bAjGqUig5GI3yox/RipL+/PEqlcnLwfExES1U4iRWAmr7/8EIEOW8PCJndnNy0e4k+ICotiSJLP8eSxofjxhkAIhp4BajP6YkeYj8AAACxAZ5Sakb/AS1tRnWUK3p1yO+AAW1GoOZZXibmXe22+vEkNNNmD/7aCXCvtIE1qMBJbpMqXM+QnVVloXGHHf+0Msw4rge8htKQj6QkMsLtMu+gLLwhNh/on92++Id2EUhunEhQ4S7P8wfHnxvBegE7+GccBv+FEcK6za4xoe6A79JUGhXBXddpxUPU8+1mGWmZAAWWo/mGP1rgNIAp8Qb+4OGQjvplKSLFI9fQA0OqujKCAAAAx0GaVEmoQWiZTAjf+lgAy2/4croQZ5l/MQArHNT3mJudG0sLkVlINiFxeAtMCsj3xRap32vbWvZAbNV2sBbW/oZO7WqRghabOvvm7CWzLbOORUwkganlA3tTQ1aA8uhghUNeb2fprMZmlbPHjZ+GdQAqCdDqceYM29RO1rB3ZMds/7sgJIEjAHaA2gbztlSs3ABo9iyOwj1mYe2lpgKezQOyhrJvnVOZJ587u8zF6F1UAG3gFRqHsdG67Gv2AF53Sse4zAAAGBAAAAdvbW9vdgAAAGxtdmhkAAAAAAAAAAAAAAAAAAAD6AAADzwAAQAAAQAAAAAAAAAAAAAAAAEAAAAAAAAAAAAAAAAAAAABAAAAAAAAAAAAAAAAAABAAAAAAAAAAAAAAAAAAAAAAAAAAAAAAAAAAAAAAAAAAgAABpl0cmFrAAAAXHRraGQAAAADAAAAAAAAAAAAAAABAAAAAAAADzwAAAAAAAAAAAAAAAAAAAAAAAEAAAAAAAAAAAAAAAAAAAABAAAAAAAAAAAAAAAAAABAAAAAAlgAAAGQAAAAAAAkZWR0cwAAABxlbHN0AAAAAAAAAAEAAA88AAAEAAABAAAAAAYRbWRpYQAAACBtZGhkAAAAAAAAAAAAAAAAAAA8AAAA6gBVxAAAAAAALWhkbHIAAAAAAAAAAHZpZGUAAAAAAAAAAAAAAABWaWRlb0hhbmRsZXIAAAAFvG1pbmYAAAAUdm1oZAAAAAEAAAAAAAAAAAAAACRkaW5mAAAAHGRyZWYAAAAAAAAAAQAAAAx1cmwgAAAAAQAABXxzdGJsAAAAmHN0c2QAAAAAAAAAAQAAAIhhdmMxAAAAAAAAAAEAAAAAAAAAAAAAAAAAAAAAAlgBkABIAAAASAAAAAAAAAABAAAAAAAAAAAAAAAAAAAAAAAAAAAAAAAAAAAAAAAAAAAAGP//AAAAMmF2Y0MBZAAe/+EAGWdkAB6s2UCYM+XhAAADAAEAAAMAPA8WLZYBAAZo6+PLIsAAAAAYc3R0cwAAAAAAAAABAAAAdQAAAgAAAAAUc3RzcwAAAAAAAAABAAAAAQAAAphjdHRzAAAAAAAAAFEAAAABAAAEAAAAAAEAAAoAAAAAAQAABAAAAAABAAAAAAAAAAEAAAIAAAAAAQAABgAAAAABAAACAAAAAAEAAAoAAAAAAQAABAAAAAABAAAAAAAAAAEAAAIAAAAABQAABAAAAAABAAAIAAAAAAIAAAIAAAAAAwAABAAAAAABAAAGAAAAAAEAAAIAAAAAAQAABgAAAAABAAACAAAAAAEAAAQAAAAAAQAABgAAAAABAAACAAAAAAEAAAgAAAAAAgAAAgAAAAABAAAKAAAAAAEAAAQAAAAAAQAAAAAAAAABAAACAAAAAAEAAAgAAAAAAgAAAgAAAAABAAAIAAAAAAIAAAIAAAAAAQAABgAAAAABAAACAAAAAAEAAAYAAAAAAQAAAgAAAAABAAAEAAAAAAEAAAYAAAAAAQAAAgAAAAABAAAGAAAAAAEAAAIAAAAAAQAABgAAAAABAAACAAAAAAEAAAYAAAAAAQAAAgAAAAABAAAEAAAAAAEAAAgAAAAAAgAAAgAAAAACAAAEAAAAAAEAAAgAAAAAAgAAAgAAAAABAAAEAAAAAAEAAAYAAAAAAQAAAgAAAAABAAAKAAAAAAEAAAQAAAAAAQAAAAAAAAABAAACAAAAAAEAAAoAAAAAAQAABAAAAAABAAAAAAAAAAEAAAIAAAAAAQAACAAAAAACAAACAAAAAAEAAAQAAAAAAQAACAAAAAACAAACAAAAAAoAAAQAAAAAAQAACAAAAAACAAACAAAAAAEAAAQAAAAAAQAABgAAAAABAAACAAAAAAEAAAYAAAAAAQAAAgAAAAALAAAEAAAAAAEAAAYAAAAAAQAAAgAAAAABAAAIAAAAAAIAAAIAAAAAAQAABAAAAAAcc3RzYwAAAAAAAAABAAAAAQAAAHUAAAABAAAB6HN0c3oAAAAAAAAAAAAAAHUAABB1AAAA6QAAAFcAAAAiAAAALgAAAN0AAABHAAABRAAAAI0AAABPAAAAVgAAALsAAAE4AAABcgAAANYAAAEBAAABQwAAAHYAAAByAAAA5AAAANsAAADlAAAA9gAAAG0AAAE+AAAAfAAAAM0AAAD6AAAAZwAAAO8AAACNAAAAVgAAANMAAABDAAAAPwAAADwAAACcAAAASwAAADgAAAEmAAAAfwAAAHQAAAFOAAAAhQAAATsAAAB+AAAA9QAAAXsAAACNAAABJAAAAI0AAAEzAAAAsAAAAUgAAACfAAABEAAAAaYAAADXAAAArwAAAQUAAAESAAABHQAAAJIAAABiAAAApgAAANoAAABnAAAA2AAAAGIAAABEAAAASgAAAMQAAAB+AAAAWQAAAGEAAADLAAAAZwAAAEYAAACGAAABDAAAAIkAAABMAAAAogAAALEAAACzAAAA2gAAALUAAADSAAAA8gAAAPYAAADoAAABBAAAASEAAADWAAAA0AAAAOUAAAFkAAAA2AAAAUcAAADOAAAA8wAAAO4AAADXAAAA4QAAALwAAACnAAAA5wAAAO8AAADpAAAA4gAAANoAAAEyAAAAtwAAAO0AAADZAAAAtQAAAMsAAAAUc3RjbwAAAAAAAAABAAAAMAAAAGJ1ZHRhAAAAWm1ldGEAAAAAAAAAIWhkbHIAAAAAAAAAAG1kaXJhcHBsAAAAAAAAAAAAAAAALWlsc3QAAAAlqXRvbwAAAB1kYXRhAAAAAQAAAABMYXZmNTcuNzIuMTAx\" type=\"video/mp4\">\n",
              " Your browser does not support the video tag.\n",
              " </video>"
            ]
          },
          "metadata": {}
        }
      ]
    },
    {
      "cell_type": "code",
      "source": [
        "plt.plot(np.arange(e),episode_rewards[0:e])\n",
        "plt.show()"
      ],
      "metadata": {
        "id": "zrhZcIe4RSAy",
        "outputId": "a365f40e-be5e-4b8a-c174-fb3d7cd5861b",
        "colab": {
          "base_uri": "https://localhost:8080/",
          "height": 265
        }
      },
      "execution_count": 128,
      "outputs": [
        {
          "output_type": "display_data",
          "data": {
            "text/plain": [
              "<Figure size 432x288 with 1 Axes>"
            ],
            "image/png": "[encoded data removed]"
          },
          "metadata": {
            "needs_background": "light"
          }
        }
      ]
    }
  ]
}